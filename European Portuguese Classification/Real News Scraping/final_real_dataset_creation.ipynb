{
 "cells": [
  {
   "cell_type": "code",
   "execution_count": 1,
   "metadata": {},
   "outputs": [],
   "source": [
    "import pandas as pd\n",
    "import os\n",
    "import numpy as np"
   ]
  },
  {
   "cell_type": "code",
   "execution_count": 2,
   "metadata": {},
   "outputs": [],
   "source": [
    "publico_fact_check_real_df = pd.read_csv(\"Publico_fact_check_real.csv\")\n",
    "observador_fact_check_real_df = pd.read_csv(\"Observador_fact_check_real.csv\")\n",
    "poligrafo_fact_check_real_df = pd.read_csv(\"Poligrafo_fact_check_real.csv\")\n",
    "diario_de_noticias_df = pd.read_csv(\"Diario de Noticias\\Diario_de_noticias_dataset.csv\")\n",
    "expresso_df = pd.read_csv(\"Expresso\\Expresso_dataset.csv\")\n",
    "jornal_de_noticias_df = pd.read_csv(\"Jornal de Noticias\\Jornal_de_Noticias_dataset.csv\")\n",
    "jornal_sol_df = pd.read_csv(\"Jornal SOL\\jornal_SOL_dataset.csv\")\n",
    "sic_noticias_df = pd.read_csv(\"SIC Noticias\\SIC_noticias_dataset.csv\")"
   ]
  },
  {
   "cell_type": "code",
   "execution_count": 5,
   "metadata": {},
   "outputs": [
    {
     "name": "stdout",
     "output_type": "stream",
     "text": [
      "publico_fact_check:  143\n",
      "observador_fact_check_real_df:  90\n",
      "poligrafo_fact_check_real_df:  2925\n",
      "diario_de_noticias_df:  5369\n",
      "expresso_df:  4537\n",
      "jornal_de_noticias_df:  2989\n",
      "jornal_sol_df:  950\n",
      "sic_noticias_df:  14718\n"
     ]
    }
   ],
   "source": [
    "print(\"publico_fact_check: \",len(publico_fact_check_real_df))\n",
    "print(\"observador_fact_check_real_df: \",len(observador_fact_check_real_df))\n",
    "print(\"poligrafo_fact_check_real_df: \",len(poligrafo_fact_check_real_df))\n",
    "print(\"diario_de_noticias_df: \",len(diario_de_noticias_df))\n",
    "print(\"expresso_df: \",len(expresso_df))\n",
    "print(\"jornal_de_noticias_df: \",len(jornal_de_noticias_df))\n",
    "print(\"jornal_sol_df: \",len(jornal_sol_df))\n",
    "print(\"sic_noticias_df: \",len(sic_noticias_df))"
   ]
  },
  {
   "cell_type": "markdown",
   "metadata": {},
   "source": [
    "Create the final real dataset"
   ]
  },
  {
   "cell_type": "code",
   "execution_count": 6,
   "metadata": {},
   "outputs": [
    {
     "data": {
      "text/html": [
       "<div>\n",
       "<style scoped>\n",
       "    .dataframe tbody tr th:only-of-type {\n",
       "        vertical-align: middle;\n",
       "    }\n",
       "\n",
       "    .dataframe tbody tr th {\n",
       "        vertical-align: top;\n",
       "    }\n",
       "\n",
       "    .dataframe thead th {\n",
       "        text-align: right;\n",
       "    }\n",
       "</style>\n",
       "<table border=\"1\" class=\"dataframe\">\n",
       "  <thead>\n",
       "    <tr style=\"text-align: right;\">\n",
       "      <th></th>\n",
       "      <th>Text</th>\n",
       "      <th>Source</th>\n",
       "      <th>URL</th>\n",
       "    </tr>\n",
       "  </thead>\n",
       "  <tbody>\n",
       "    <tr>\n",
       "      <th>0</th>\n",
       "      <td>“O SNS tem hoje cerca de 4300 médicos especial...</td>\n",
       "      <td>Manuel Pizarro, ministro da Saúde</td>\n",
       "      <td>https://www.publico.pt/2022/12/09/sociedade/no...</td>\n",
       "    </tr>\n",
       "    <tr>\n",
       "      <th>1</th>\n",
       "      <td>\"Não tinha de me pronunciar nem ter conhecimen...</td>\n",
       "      <td>Marcelo Rebelo de Sousa, Presidente da República</td>\n",
       "      <td>https://www.publico.pt/2023/03/03/politica/not...</td>\n",
       "    </tr>\n",
       "    <tr>\n",
       "      <th>2</th>\n",
       "      <td>“Nós temos, em Portugal, quase um milhão de pe...</td>\n",
       "      <td>Luís Montenegro, presidente do PSD</td>\n",
       "      <td>https://www.publico.pt/2022/08/19/politica/not...</td>\n",
       "    </tr>\n",
       "    <tr>\n",
       "      <th>3</th>\n",
       "      <td>Já defendo o referendo sobre a eutanásia há qu...</td>\n",
       "      <td>Luís Montenegro, presidente do PSD</td>\n",
       "      <td>https://www.publico.pt/2022/12/06/politica/not...</td>\n",
       "    </tr>\n",
       "    <tr>\n",
       "      <th>4</th>\n",
       "      <td>“Tenho uma regra de não comentar no exterior a...</td>\n",
       "      <td>António Costa, primeiro-ministro</td>\n",
       "      <td>https://www.publico.pt/2022/06/30/politica/not...</td>\n",
       "    </tr>\n",
       "  </tbody>\n",
       "</table>\n",
       "</div>"
      ],
      "text/plain": [
       "                                                Text  \\\n",
       "0  “O SNS tem hoje cerca de 4300 médicos especial...   \n",
       "1  \"Não tinha de me pronunciar nem ter conhecimen...   \n",
       "2  “Nós temos, em Portugal, quase um milhão de pe...   \n",
       "3  Já defendo o referendo sobre a eutanásia há qu...   \n",
       "4  “Tenho uma regra de não comentar no exterior a...   \n",
       "\n",
       "                                             Source  \\\n",
       "0                 Manuel Pizarro, ministro da Saúde   \n",
       "1  Marcelo Rebelo de Sousa, Presidente da República   \n",
       "2                Luís Montenegro, presidente do PSD   \n",
       "3                Luís Montenegro, presidente do PSD   \n",
       "4                  António Costa, primeiro-ministro   \n",
       "\n",
       "                                                 URL  \n",
       "0  https://www.publico.pt/2022/12/09/sociedade/no...  \n",
       "1  https://www.publico.pt/2023/03/03/politica/not...  \n",
       "2  https://www.publico.pt/2022/08/19/politica/not...  \n",
       "3  https://www.publico.pt/2022/12/06/politica/not...  \n",
       "4  https://www.publico.pt/2022/06/30/politica/not...  "
      ]
     },
     "execution_count": 6,
     "metadata": {},
     "output_type": "execute_result"
    }
   ],
   "source": [
    "# Adapt the code after changing bombeiros24_df to include the source later on\n",
    "final_real_dataset = pd.concat([publico_fact_check_real_df, observador_fact_check_real_df,\n",
    "                                poligrafo_fact_check_real_df, diario_de_noticias_df,\n",
    "                                expresso_df, jornal_de_noticias_df,\n",
    "                                jornal_sol_df, sic_noticias_df], ignore_index=True)\n",
    "\n",
    "final_real_dataset.head()"
   ]
  },
  {
   "cell_type": "code",
   "execution_count": 7,
   "metadata": {},
   "outputs": [
    {
     "data": {
      "text/plain": [
       "31721"
      ]
     },
     "execution_count": 7,
     "metadata": {},
     "output_type": "execute_result"
    }
   ],
   "source": [
    "len(final_real_dataset) # 31543"
   ]
  },
  {
   "cell_type": "code",
   "execution_count": 6,
   "metadata": {},
   "outputs": [],
   "source": [
    "final_real_dataset.to_csv(\"Final_real_dataset.csv\", index = False)"
   ]
  }
 ],
 "metadata": {
  "kernelspec": {
   "display_name": "tf-gpu-share-backup",
   "language": "python",
   "name": "python3"
  },
  "language_info": {
   "codemirror_mode": {
    "name": "ipython",
    "version": 3
   },
   "file_extension": ".py",
   "mimetype": "text/x-python",
   "name": "python",
   "nbconvert_exporter": "python",
   "pygments_lexer": "ipython3",
   "version": "3.9.16"
  },
  "orig_nbformat": 4
 },
 "nbformat": 4,
 "nbformat_minor": 2
}
