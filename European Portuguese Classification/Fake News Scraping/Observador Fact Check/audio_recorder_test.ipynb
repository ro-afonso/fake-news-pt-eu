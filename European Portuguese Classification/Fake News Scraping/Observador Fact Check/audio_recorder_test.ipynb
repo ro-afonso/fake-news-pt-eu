{
 "cells": [
  {
   "cell_type": "markdown",
   "metadata": {},
   "source": [
    "This script made it possible to record Observador's Podcasts. The sound would then be transformed to text, but the final results weren't accurate and the idea ended up being discarded"
   ]
  },
  {
   "cell_type": "code",
   "execution_count": 3,
   "metadata": {},
   "outputs": [],
   "source": [
    "import time\n",
    "import pyaudio\n",
    "import wave\n",
    "\n",
    "from bs4 import BeautifulSoup as bs4\n",
    "import requests\n",
    "\n",
    "from selenium import webdriver\n",
    "from selenium.webdriver.common.keys import Keys\n",
    "\n",
    "from webdriver_manager.chrome import ChromeDriverManager\n",
    "\n",
    "from selenium.webdriver.chrome.service import Service\n",
    "from selenium.webdriver.common.by import By\n",
    "from selenium.webdriver.support.ui import WebDriverWait\n",
    "from selenium.webdriver.support import expected_conditions as EC\n",
    "\n",
    "import soundcard as sc\n",
    "import soundfile as sf\n",
    "\n",
    "# Initialize audio recording parameters\n",
    "chunk = 1024\n",
    "sample_format = pyaudio.paInt16\n",
    "channels = 2\n",
    "rate = 44100\n",
    "output_filename = \"output.wav\""
   ]
  },
  {
   "cell_type": "code",
   "execution_count": 4,
   "metadata": {},
   "outputs": [],
   "source": [
    "# Initialize the audio stream\n",
    "audio = pyaudio.PyAudio()"
   ]
  },
  {
   "cell_type": "code",
   "execution_count": 5,
   "metadata": {},
   "outputs": [
    {
     "name": "stderr",
     "output_type": "stream",
     "text": [
      "[WDM] - Downloading: 100%|██████████| 6.30M/6.30M [00:01<00:00, 4.10MB/s]\n"
     ]
    }
   ],
   "source": [
    "driver = webdriver.Chrome(ChromeDriverManager().install())"
   ]
  },
  {
   "cell_type": "code",
   "execution_count": 16,
   "metadata": {},
   "outputs": [],
   "source": [
    "# Open the webpage\n",
    "url = 'https://observador.pt/programas/fact-check-2/salazar-criou-o-servico-nacional-de-saude/'  # Replace with the URL of the webpage with podcasts\n",
    "driver.get(url)"
   ]
  },
  {
   "cell_type": "code",
   "execution_count": 17,
   "metadata": {},
   "outputs": [],
   "source": [
    "# After rejecting cookies and all that stuff\n",
    "# Wait for the video to load and get its duration\n",
    "wait = WebDriverWait(driver, 3)  # Adjust the timeout as needed\n",
    "video_element = wait.until(EC.presence_of_element_located((By.XPATH, '//div[@class=\"picture-and-controls\"]')))"
   ]
  },
  {
   "cell_type": "code",
   "execution_count": 18,
   "metadata": {},
   "outputs": [
    {
     "name": "stdout",
     "output_type": "stream",
     "text": [
      "03:06\n"
     ]
    }
   ],
   "source": [
    "# Find the button element and click to play the video\n",
    "play_button = driver.find_element_by_xpath('//div[@class=\"mejs__button mejs__playpause-button mejs__play\"]/button')\n",
    "play_button.click()\n",
    "\n",
    "time.sleep(1)\n",
    "\n",
    "soup = bs4(driver.page_source, 'html.parser')\n",
    "video_duration_element = soup.find(\"div\", class_ = \"mejs__time mejs__duration-container\")\n",
    "print(video_duration_element.get_text())"
   ]
  },
  {
   "cell_type": "code",
   "execution_count": 19,
   "metadata": {},
   "outputs": [
    {
     "name": "stdout",
     "output_type": "stream",
     "text": [
      "186\n"
     ]
    }
   ],
   "source": [
    "# Convert the video duration to seconds\n",
    "video_duration = video_duration_element.get_text()\n",
    "minutes, seconds = map(int, video_duration.split(':'))\n",
    "video_duration_seconds = minutes * 60 + seconds\n",
    "\n",
    "print(video_duration_seconds)\n",
    "\n",
    "# Specify filename WAV extension, as WAV files are uncompressed and preserve the original audio data\n",
    "# This means they can provide better accuracy during the audio-to-text conversion process\n",
    "audio_filename = \"Observador_podcasts\\\\\"+url.split('/')[-2]+(\".wav\")\n",
    "\n",
    "SAMPLE_RATE = 48000              # [Hz]. sampling rate.\n",
    "\n",
    "with sc.get_microphone(id=str(sc.default_speaker().name), include_loopback=True).recorder(samplerate=SAMPLE_RATE) as mic:\n",
    "    # record audio with loopback from default speaker.\n",
    "    data = mic.record(numframes=SAMPLE_RATE*video_duration_seconds)\n",
    "    \n",
    "    # change \"data=data[:, 0]\" to \"data=data\", if you would like to write audio as multiple-channels.\n",
    "    sf.write(file=audio_filename, data=data[:, 0], samplerate=SAMPLE_RATE)"
   ]
  }
 ],
 "metadata": {
  "kernelspec": {
   "display_name": "tf-gpu-share-backup",
   "language": "python",
   "name": "python3"
  },
  "language_info": {
   "codemirror_mode": {
    "name": "ipython",
    "version": 3
   },
   "file_extension": ".py",
   "mimetype": "text/x-python",
   "name": "python",
   "nbconvert_exporter": "python",
   "pygments_lexer": "ipython3",
   "version": "3.9.16"
  },
  "orig_nbformat": 4
 },
 "nbformat": 4,
 "nbformat_minor": 2
}
