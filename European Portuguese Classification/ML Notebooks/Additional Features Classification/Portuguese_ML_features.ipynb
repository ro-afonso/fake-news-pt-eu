{
 "cells": [
  {
   "cell_type": "code",
   "execution_count": 98,
   "metadata": {},
   "outputs": [],
   "source": [
    "import pandas as pd\n",
    "import numpy as np\n",
    "import re\n",
    "import nltk\n",
    "from nltk.corpus import stopwords\n",
    "from nltk.tokenize import word_tokenize, sent_tokenize\n",
    "from nltk.stem import WordNetLemmatizer, PorterStemmer\n",
    "from nltk.corpus import wordnet\n",
    "from nltk import pos_tag\n",
    "from nltk.sentiment.vader import SentimentIntensityAnalyzer\n",
    "\n",
    "from sklearn.feature_extraction.text import TfidfVectorizer, CountVectorizer\n",
    "from sklearn.preprocessing import LabelEncoder\n",
    "from sklearn.model_selection import train_test_split, cross_val_score, GridSearchCV\n",
    "from sklearn.feature_selection import SelectKBest, chi2\n",
    "from sklearn.metrics import confusion_matrix, classification_report\n",
    "\n",
    "from sklearn.naive_bayes import MultinomialNB\n",
    "from sklearn.linear_model import LogisticRegression\n",
    "from sklearn.svm import SVC, LinearSVC #LinearSVC should scale better to a higher number of samples than SVC\n",
    "from sklearn.ensemble import RandomForestClassifier, ExtraTreesClassifier\n",
    "from sklearn.tree import DecisionTreeClassifier\n",
    "from sklearn.neighbors import KNeighborsClassifier\n",
    "from sklearn.ensemble import AdaBoostClassifier\n",
    "from sklearn.ensemble import GradientBoostingClassifier\n",
    "from sklearn.ensemble import BaggingClassifier\n",
    "from sklearn.naive_bayes import GaussianNB\n",
    "from sklearn.naive_bayes import BernoulliNB\n",
    "from sklearn.neural_network import MLPClassifier\n",
    "from xgboost import XGBClassifier\n",
    "\n",
    "from keras.preprocessing.text import Tokenizer\n",
    "from keras.preprocessing.sequence import pad_sequences\n",
    "from keras.models import Sequential\n",
    "from keras.layers import Dense, Embedding, LSTM, SpatialDropout1D, Conv1D, MaxPooling1D, Bidirectional\n",
    "from keras.utils import np_utils\n",
    "import tensorflow as tf\n",
    "from transformers import BertTokenizer, TFBertModel\n",
    "from transformers import RobertaTokenizer, TFRobertaModel\n",
    "from transformers import XLNetTokenizer, TFXLNetModel\n",
    "from scipy.stats import pearsonr\n",
    "\n",
    "pd.set_option('display.max_colwidth', 50)\n"
   ]
  },
  {
   "cell_type": "code",
   "execution_count": 99,
   "metadata": {},
   "outputs": [],
   "source": [
    "import spacy\n",
    "from spacy.lang.pt import Portuguese\n",
    "from nltk.corpus import stopwords\n",
    "from nltk.tokenize import word_tokenize\n",
    "from nltk.sentiment.vader import SentimentIntensityAnalyzer"
   ]
  },
  {
   "cell_type": "code",
   "execution_count": 100,
   "metadata": {},
   "outputs": [],
   "source": [
    "nlp = spacy.load(\"pt_core_news_lg\")"
   ]
  },
  {
   "cell_type": "code",
   "execution_count": 101,
   "metadata": {},
   "outputs": [],
   "source": [
    "# Load the spaCy language model for European Portuguese\n",
    "#nlp = Portuguese()"
   ]
  },
  {
   "cell_type": "code",
   "execution_count": 102,
   "metadata": {},
   "outputs": [],
   "source": [
    "def check(df):\n",
    "    l=[]\n",
    "    columns=df.columns\n",
    "    for col in columns:\n",
    "        dtypes=df[col].dtypes\n",
    "        nunique=df[col].nunique()\n",
    "        sum_null=df[col].isnull().sum()\n",
    "        l.append([col,dtypes,nunique,sum_null])\n",
    "    df_check=pd.DataFrame(l)\n",
    "    df_check.columns=['column','dtypes','nunique','sum_null']\n",
    "    return df_check "
   ]
  },
  {
   "cell_type": "markdown",
   "metadata": {},
   "source": [
    "Step 1: Load CSV file into a Pandas DataFrame and clean it (missing, null and duplicated data)"
   ]
  },
  {
   "cell_type": "code",
   "execution_count": 103,
   "metadata": {},
   "outputs": [
    {
     "data": {
      "text/html": [
       "<div>\n",
       "<style scoped>\n",
       "    .dataframe tbody tr th:only-of-type {\n",
       "        vertical-align: middle;\n",
       "    }\n",
       "\n",
       "    .dataframe tbody tr th {\n",
       "        vertical-align: top;\n",
       "    }\n",
       "\n",
       "    .dataframe thead th {\n",
       "        text-align: right;\n",
       "    }\n",
       "</style>\n",
       "<table border=\"1\" class=\"dataframe\">\n",
       "  <thead>\n",
       "    <tr style=\"text-align: right;\">\n",
       "      <th></th>\n",
       "      <th>Text</th>\n",
       "      <th>Source</th>\n",
       "      <th>URL</th>\n",
       "      <th>Label</th>\n",
       "    </tr>\n",
       "  </thead>\n",
       "  <tbody>\n",
       "    <tr>\n",
       "      <th>0</th>\n",
       "      <td>PJ em operação internacional de tráfico de dro...</td>\n",
       "      <td>DN</td>\n",
       "      <td>https://www.dn.pt/sociedade/pj-em-operacao-int...</td>\n",
       "      <td>1</td>\n",
       "    </tr>\n",
       "    <tr>\n",
       "      <th>1</th>\n",
       "      <td>O texto foi criado - numa universidade da Repú...</td>\n",
       "      <td>NaN</td>\n",
       "      <td>https://poligrafo.sapo.pt/fact-check/fact-chec...</td>\n",
       "      <td>1</td>\n",
       "    </tr>\n",
       "    <tr>\n",
       "      <th>2</th>\n",
       "      <td>Nunca pague multas por conduzir sem carta ou s...</td>\n",
       "      <td>Contas Poupança</td>\n",
       "      <td>https://arquivo.pt/wayback/20200626170105mp_/h...</td>\n",
       "      <td>0</td>\n",
       "    </tr>\n",
       "    <tr>\n",
       "      <th>3</th>\n",
       "      <td>Depois de António Guterres, uma estátua de D. ...</td>\n",
       "      <td>redes sociais</td>\n",
       "      <td>https://poligrafo.sapo.pt/fact-check/fact-chec...</td>\n",
       "      <td>0</td>\n",
       "    </tr>\n",
       "    <tr>\n",
       "      <th>4</th>\n",
       "      <td>O MAR, uma droga gratuita que cura pelo menos ...</td>\n",
       "      <td>Coruja</td>\n",
       "      <td>https://arquivo.pt/wayback/20181012145922mp_/h...</td>\n",
       "      <td>0</td>\n",
       "    </tr>\n",
       "  </tbody>\n",
       "</table>\n",
       "</div>"
      ],
      "text/plain": [
       "                                                Text           Source  \\\n",
       "0  PJ em operação internacional de tráfico de dro...               DN   \n",
       "1  O texto foi criado - numa universidade da Repú...              NaN   \n",
       "2  Nunca pague multas por conduzir sem carta ou s...  Contas Poupança   \n",
       "3  Depois de António Guterres, uma estátua de D. ...    redes sociais   \n",
       "4  O MAR, uma droga gratuita que cura pelo menos ...           Coruja   \n",
       "\n",
       "                                                 URL  Label  \n",
       "0  https://www.dn.pt/sociedade/pj-em-operacao-int...      1  \n",
       "1  https://poligrafo.sapo.pt/fact-check/fact-chec...      1  \n",
       "2  https://arquivo.pt/wayback/20200626170105mp_/h...      0  \n",
       "3  https://poligrafo.sapo.pt/fact-check/fact-chec...      0  \n",
       "4  https://arquivo.pt/wayback/20181012145922mp_/h...      0  "
      ]
     },
     "execution_count": 103,
     "metadata": {},
     "output_type": "execute_result"
    }
   ],
   "source": [
    "# Load data from CSV file\n",
    "import pandas as pd\n",
    "df = pd.read_csv('Final_dataset_portuguese.csv')#.sample(10000).reset_index(drop='index')\n",
    "df.head()"
   ]
  },
  {
   "cell_type": "code",
   "execution_count": 104,
   "metadata": {},
   "outputs": [
    {
     "data": {
      "text/html": [
       "<div>\n",
       "<style scoped>\n",
       "    .dataframe tbody tr th:only-of-type {\n",
       "        vertical-align: middle;\n",
       "    }\n",
       "\n",
       "    .dataframe tbody tr th {\n",
       "        vertical-align: top;\n",
       "    }\n",
       "\n",
       "    .dataframe thead th {\n",
       "        text-align: right;\n",
       "    }\n",
       "</style>\n",
       "<table border=\"1\" class=\"dataframe\">\n",
       "  <thead>\n",
       "    <tr style=\"text-align: right;\">\n",
       "      <th></th>\n",
       "      <th>column</th>\n",
       "      <th>dtypes</th>\n",
       "      <th>nunique</th>\n",
       "      <th>sum_null</th>\n",
       "    </tr>\n",
       "  </thead>\n",
       "  <tbody>\n",
       "    <tr>\n",
       "      <th>0</th>\n",
       "      <td>Text</td>\n",
       "      <td>object</td>\n",
       "      <td>52283</td>\n",
       "      <td>0</td>\n",
       "    </tr>\n",
       "    <tr>\n",
       "      <th>1</th>\n",
       "      <td>Source</td>\n",
       "      <td>object</td>\n",
       "      <td>3101</td>\n",
       "      <td>13003</td>\n",
       "    </tr>\n",
       "    <tr>\n",
       "      <th>2</th>\n",
       "      <td>URL</td>\n",
       "      <td>object</td>\n",
       "      <td>63235</td>\n",
       "      <td>0</td>\n",
       "    </tr>\n",
       "    <tr>\n",
       "      <th>3</th>\n",
       "      <td>Label</td>\n",
       "      <td>int64</td>\n",
       "      <td>2</td>\n",
       "      <td>0</td>\n",
       "    </tr>\n",
       "  </tbody>\n",
       "</table>\n",
       "</div>"
      ],
      "text/plain": [
       "   column  dtypes  nunique  sum_null\n",
       "0    Text  object    52283         0\n",
       "1  Source  object     3101     13003\n",
       "2     URL  object    63235         0\n",
       "3   Label   int64        2         0"
      ]
     },
     "execution_count": 104,
     "metadata": {},
     "output_type": "execute_result"
    }
   ],
   "source": [
    "check(df)"
   ]
  },
  {
   "cell_type": "code",
   "execution_count": 105,
   "metadata": {},
   "outputs": [],
   "source": [
    "#df.drop(columns=['Unnamed: 0'],inplace=True)"
   ]
  },
  {
   "cell_type": "code",
   "execution_count": 106,
   "metadata": {},
   "outputs": [],
   "source": [
    "# delete missing data\n",
    "#df.dropna(inplace=True)"
   ]
  },
  {
   "cell_type": "markdown",
   "metadata": {},
   "source": [
    "Step 2: Preprocess the text data"
   ]
  },
  {
   "cell_type": "markdown",
   "metadata": {},
   "source": [
    "Stopword Removal"
   ]
  },
  {
   "cell_type": "code",
   "execution_count": 107,
   "metadata": {},
   "outputs": [],
   "source": [
    "def remove_stopwords(text):\n",
    "    stop_words = set(stopwords.words('portuguese'))\n",
    "    words = word_tokenize(text)\n",
    "    filtered_words = [word for word in words if word.lower() not in stop_words]\n",
    "    return \" \".join(filtered_words)\n",
    "\n",
    "df['text_preprocessed'] = df['Text'].apply(remove_stopwords)"
   ]
  },
  {
   "cell_type": "code",
   "execution_count": 108,
   "metadata": {},
   "outputs": [],
   "source": [
    "#stop_words = set(stopwords.words('portuguese'))\n",
    "#df['title'] = df['title'].apply(lambda x: ' '.join([word for word in word_tokenize(x) if word.lower() not in stop_words]))\n",
    "#df['text_preprocessed'] = df['text'].apply(lambda x: ' '.join([word for word in word_tokenize(x) if word.lower() not in stop_words]))"
   ]
  },
  {
   "cell_type": "code",
   "execution_count": 109,
   "metadata": {},
   "outputs": [
    {
     "data": {
      "text/html": [
       "<div>\n",
       "<style scoped>\n",
       "    .dataframe tbody tr th:only-of-type {\n",
       "        vertical-align: middle;\n",
       "    }\n",
       "\n",
       "    .dataframe tbody tr th {\n",
       "        vertical-align: top;\n",
       "    }\n",
       "\n",
       "    .dataframe thead th {\n",
       "        text-align: right;\n",
       "    }\n",
       "</style>\n",
       "<table border=\"1\" class=\"dataframe\">\n",
       "  <thead>\n",
       "    <tr style=\"text-align: right;\">\n",
       "      <th></th>\n",
       "      <th>Text</th>\n",
       "      <th>Source</th>\n",
       "      <th>URL</th>\n",
       "      <th>Label</th>\n",
       "      <th>text_preprocessed</th>\n",
       "    </tr>\n",
       "  </thead>\n",
       "  <tbody>\n",
       "    <tr>\n",
       "      <th>0</th>\n",
       "      <td>PJ em operação internacional de tráfico de dro...</td>\n",
       "      <td>DN</td>\n",
       "      <td>https://www.dn.pt/sociedade/pj-em-operacao-int...</td>\n",
       "      <td>1</td>\n",
       "      <td>PJ operação internacional tráfico droga apreen...</td>\n",
       "    </tr>\n",
       "    <tr>\n",
       "      <th>1</th>\n",
       "      <td>O texto foi criado - numa universidade da Repú...</td>\n",
       "      <td>NaN</td>\n",
       "      <td>https://poligrafo.sapo.pt/fact-check/fact-chec...</td>\n",
       "      <td>1</td>\n",
       "      <td>texto criado - universidade República Checa - ...</td>\n",
       "    </tr>\n",
       "    <tr>\n",
       "      <th>2</th>\n",
       "      <td>Nunca pague multas por conduzir sem carta ou s...</td>\n",
       "      <td>Contas Poupança</td>\n",
       "      <td>https://arquivo.pt/wayback/20200626170105mp_/h...</td>\n",
       "      <td>0</td>\n",
       "      <td>Nunca pague multas conduzir carta Cartão Cidad...</td>\n",
       "    </tr>\n",
       "    <tr>\n",
       "      <th>3</th>\n",
       "      <td>Depois de António Guterres, uma estátua de D. ...</td>\n",
       "      <td>redes sociais</td>\n",
       "      <td>https://poligrafo.sapo.pt/fact-check/fact-chec...</td>\n",
       "      <td>0</td>\n",
       "      <td>António Guterres , estátua D. Afonso Henriques...</td>\n",
       "    </tr>\n",
       "    <tr>\n",
       "      <th>4</th>\n",
       "      <td>O MAR, uma droga gratuita que cura pelo menos ...</td>\n",
       "      <td>Coruja</td>\n",
       "      <td>https://arquivo.pt/wayback/20181012145922mp_/h...</td>\n",
       "      <td>0</td>\n",
       "      <td>MAR , droga gratuita cura menos 16 DOENÇAS ! F...</td>\n",
       "    </tr>\n",
       "  </tbody>\n",
       "</table>\n",
       "</div>"
      ],
      "text/plain": [
       "                                                Text           Source  \\\n",
       "0  PJ em operação internacional de tráfico de dro...               DN   \n",
       "1  O texto foi criado - numa universidade da Repú...              NaN   \n",
       "2  Nunca pague multas por conduzir sem carta ou s...  Contas Poupança   \n",
       "3  Depois de António Guterres, uma estátua de D. ...    redes sociais   \n",
       "4  O MAR, uma droga gratuita que cura pelo menos ...           Coruja   \n",
       "\n",
       "                                                 URL  Label  \\\n",
       "0  https://www.dn.pt/sociedade/pj-em-operacao-int...      1   \n",
       "1  https://poligrafo.sapo.pt/fact-check/fact-chec...      1   \n",
       "2  https://arquivo.pt/wayback/20200626170105mp_/h...      0   \n",
       "3  https://poligrafo.sapo.pt/fact-check/fact-chec...      0   \n",
       "4  https://arquivo.pt/wayback/20181012145922mp_/h...      0   \n",
       "\n",
       "                                   text_preprocessed  \n",
       "0  PJ operação internacional tráfico droga apreen...  \n",
       "1  texto criado - universidade República Checa - ...  \n",
       "2  Nunca pague multas conduzir carta Cartão Cidad...  \n",
       "3  António Guterres , estátua D. Afonso Henriques...  \n",
       "4  MAR , droga gratuita cura menos 16 DOENÇAS ! F...  "
      ]
     },
     "execution_count": 109,
     "metadata": {},
     "output_type": "execute_result"
    }
   ],
   "source": [
    "df.head()"
   ]
  },
  {
   "cell_type": "markdown",
   "metadata": {},
   "source": [
    "Stemming"
   ]
  },
  {
   "cell_type": "code",
   "execution_count": 110,
   "metadata": {},
   "outputs": [],
   "source": [
    "# stemmer = PorterStemmer()\n",
    "\n",
    "# #df['title'] = df['title'].apply(lambda x: ' '.join([stemmer.stem(word) for word in word_tokenize(x)]))\n",
    "# df['text_preprocessed'] = df['text_preprocessed'].apply(lambda x: ' '.join([stemmer.stem(word) for word in word_tokenize(x)]))\n",
    "\n",
    "# df.head()"
   ]
  },
  {
   "cell_type": "markdown",
   "metadata": {},
   "source": [
    "Lemmatization"
   ]
  },
  {
   "cell_type": "code",
   "execution_count": 111,
   "metadata": {},
   "outputs": [],
   "source": [
    "# Function for lemmatization\n",
    "def lemmatize_text(text):\n",
    "    doc = nlp(text)\n",
    "    lemmatized_tokens = [token.lemma_ for token in doc]\n",
    "    return \" \".join(lemmatized_tokens)\n",
    "\n",
    "df['text_preprocessed'] = df['text_preprocessed'].apply(lemmatize_text)"
   ]
  },
  {
   "cell_type": "code",
   "execution_count": 112,
   "metadata": {},
   "outputs": [
    {
     "data": {
      "text/html": [
       "<div>\n",
       "<style scoped>\n",
       "    .dataframe tbody tr th:only-of-type {\n",
       "        vertical-align: middle;\n",
       "    }\n",
       "\n",
       "    .dataframe tbody tr th {\n",
       "        vertical-align: top;\n",
       "    }\n",
       "\n",
       "    .dataframe thead th {\n",
       "        text-align: right;\n",
       "    }\n",
       "</style>\n",
       "<table border=\"1\" class=\"dataframe\">\n",
       "  <thead>\n",
       "    <tr style=\"text-align: right;\">\n",
       "      <th></th>\n",
       "      <th>Text</th>\n",
       "      <th>Source</th>\n",
       "      <th>URL</th>\n",
       "      <th>Label</th>\n",
       "      <th>text_preprocessed</th>\n",
       "    </tr>\n",
       "  </thead>\n",
       "  <tbody>\n",
       "    <tr>\n",
       "      <th>0</th>\n",
       "      <td>PJ em operação internacional de tráfico de dro...</td>\n",
       "      <td>DN</td>\n",
       "      <td>https://www.dn.pt/sociedade/pj-em-operacao-int...</td>\n",
       "      <td>1</td>\n",
       "      <td>PJ operação internacional tráfico droga apreen...</td>\n",
       "    </tr>\n",
       "    <tr>\n",
       "      <th>1</th>\n",
       "      <td>O texto foi criado - numa universidade da Repú...</td>\n",
       "      <td>NaN</td>\n",
       "      <td>https://poligrafo.sapo.pt/fact-check/fact-chec...</td>\n",
       "      <td>1</td>\n",
       "      <td>texto criar - universidade República Checa - s...</td>\n",
       "    </tr>\n",
       "    <tr>\n",
       "      <th>2</th>\n",
       "      <td>Nunca pague multas por conduzir sem carta ou s...</td>\n",
       "      <td>Contas Poupança</td>\n",
       "      <td>https://arquivo.pt/wayback/20200626170105mp_/h...</td>\n",
       "      <td>0</td>\n",
       "      <td>nunca paguar multa conduzir carta Cartão Cidad...</td>\n",
       "    </tr>\n",
       "    <tr>\n",
       "      <th>3</th>\n",
       "      <td>Depois de António Guterres, uma estátua de D. ...</td>\n",
       "      <td>redes sociais</td>\n",
       "      <td>https://poligrafo.sapo.pt/fact-check/fact-chec...</td>\n",
       "      <td>0</td>\n",
       "      <td>António Guterres , estátua D. Afonso Henriques...</td>\n",
       "    </tr>\n",
       "    <tr>\n",
       "      <th>4</th>\n",
       "      <td>O MAR, uma droga gratuita que cura pelo menos ...</td>\n",
       "      <td>Coruja</td>\n",
       "      <td>https://arquivo.pt/wayback/20181012145922mp_/h...</td>\n",
       "      <td>0</td>\n",
       "      <td>MAR , droga gratuito cura menos 16 DOENÇAS ! F...</td>\n",
       "    </tr>\n",
       "  </tbody>\n",
       "</table>\n",
       "</div>"
      ],
      "text/plain": [
       "                                                Text           Source  \\\n",
       "0  PJ em operação internacional de tráfico de dro...               DN   \n",
       "1  O texto foi criado - numa universidade da Repú...              NaN   \n",
       "2  Nunca pague multas por conduzir sem carta ou s...  Contas Poupança   \n",
       "3  Depois de António Guterres, uma estátua de D. ...    redes sociais   \n",
       "4  O MAR, uma droga gratuita que cura pelo menos ...           Coruja   \n",
       "\n",
       "                                                 URL  Label  \\\n",
       "0  https://www.dn.pt/sociedade/pj-em-operacao-int...      1   \n",
       "1  https://poligrafo.sapo.pt/fact-check/fact-chec...      1   \n",
       "2  https://arquivo.pt/wayback/20200626170105mp_/h...      0   \n",
       "3  https://poligrafo.sapo.pt/fact-check/fact-chec...      0   \n",
       "4  https://arquivo.pt/wayback/20181012145922mp_/h...      0   \n",
       "\n",
       "                                   text_preprocessed  \n",
       "0  PJ operação internacional tráfico droga apreen...  \n",
       "1  texto criar - universidade República Checa - s...  \n",
       "2  nunca paguar multa conduzir carta Cartão Cidad...  \n",
       "3  António Guterres , estátua D. Afonso Henriques...  \n",
       "4  MAR , droga gratuito cura menos 16 DOENÇAS ! F...  "
      ]
     },
     "execution_count": 112,
     "metadata": {},
     "output_type": "execute_result"
    }
   ],
   "source": [
    "df.head()"
   ]
  },
  {
   "cell_type": "markdown",
   "metadata": {},
   "source": [
    "Ngrams"
   ]
  },
  {
   "cell_type": "code",
   "execution_count": 113,
   "metadata": {},
   "outputs": [],
   "source": [
    "#from nltk import ngrams\n",
    "\n",
    "#df['title_ngrams'] = df['title'].apply(lambda x: ' '.join([lemmatizer.lemmatize(word, get_wordnet_pos(word)) for word in word_tokenize(x)]))"
   ]
  },
  {
   "cell_type": "markdown",
   "metadata": {},
   "source": [
    "Additional linguistic features"
   ]
  },
  {
   "cell_type": "code",
   "execution_count": 114,
   "metadata": {},
   "outputs": [],
   "source": [
    "def count_words(text):\n",
    "    words = word_tokenize(text)\n",
    "    return len(words)\n",
    "\n",
    "def count_nouns(text):\n",
    "    doc = nlp(text)\n",
    "    noun_count = sum([1 for token in doc if token.pos_ == 'NOUN'])\n",
    "    return noun_count\n",
    "\n",
    "def count_verbs(text):\n",
    "    doc = nlp(text)\n",
    "    verb_count = sum([1 for token in doc if token.pos_ == 'VERB'])\n",
    "    return verb_count\n",
    "\n",
    "def count_adjectives(text):\n",
    "    doc = nlp(text)\n",
    "    adj_count = sum([1 for token in doc if token.pos_ == 'ADJ'])\n",
    "    return adj_count\n",
    "\n",
    "def count_adverbs(text):\n",
    "    doc = nlp(text)\n",
    "    adv_count = sum([1 for token in doc if token.pos_ == 'ADV'])\n",
    "    return adv_count\n",
    "\n",
    "df['count_words_text'] = df['text_preprocessed'].apply(count_words)\n",
    "df['num_nouns_text'] = df['text_preprocessed'].apply(count_nouns)\n",
    "df['num_verbs_text'] = df['text_preprocessed'].apply(count_verbs)\n",
    "df['num_adj_text'] = df['text_preprocessed'].apply(count_adjectives)\n",
    "df['num_adv_text'] = df['text_preprocessed'].apply(count_adverbs)"
   ]
  },
  {
   "cell_type": "markdown",
   "metadata": {},
   "source": [
    " Sentiment score"
   ]
  },
  {
   "cell_type": "code",
   "execution_count": 115,
   "metadata": {},
   "outputs": [],
   "source": [
    "sia = SentimentIntensityAnalyzer()\n",
    "\n",
    "def get_avg_sentiment_score(text):\n",
    "    return sia.polarity_scores(text)['compound']\n",
    "\n",
    "def get_pos_sentiment_score(text):\n",
    "    return sia.polarity_scores(text)['pos']\n",
    "\n",
    "def get_neu_sentiment_score(text):\n",
    "    return sia.polarity_scores(text)['neu']\n",
    "\n",
    "def get_neg_sentiment_score(text):\n",
    "    return sia.polarity_scores(text)['neg']\n",
    "\n",
    "df['sentiment_avg_text'] = df['text_preprocessed'].apply(lambda x: get_avg_sentiment_score(x))"
   ]
  },
  {
   "cell_type": "markdown",
   "metadata": {},
   "source": [
    "Step 3: Create final feature column"
   ]
  },
  {
   "cell_type": "code",
   "execution_count": 116,
   "metadata": {},
   "outputs": [],
   "source": [
    "# Concatenate the preprocessed text, title, sentiment, and additional features\n",
    "df['features'] = df.apply(lambda x: ' '.join([x['text_preprocessed'],\n",
    "                                              str(x['sentiment_avg_text']),\n",
    "                                              str(x['count_words_text']), \n",
    "                                              str(x['num_nouns_text']),\n",
    "                                              str(x['num_verbs_text']),\n",
    "                                              str(x['num_adj_text']),\n",
    "                                              str(x['num_adv_text']),\n",
    "                                              str(x[\"Source\"])]), axis=1)"
   ]
  },
  {
   "cell_type": "code",
   "execution_count": 117,
   "metadata": {},
   "outputs": [
    {
     "data": {
      "text/html": [
       "<div>\n",
       "<style scoped>\n",
       "    .dataframe tbody tr th:only-of-type {\n",
       "        vertical-align: middle;\n",
       "    }\n",
       "\n",
       "    .dataframe tbody tr th {\n",
       "        vertical-align: top;\n",
       "    }\n",
       "\n",
       "    .dataframe thead th {\n",
       "        text-align: right;\n",
       "    }\n",
       "</style>\n",
       "<table border=\"1\" class=\"dataframe\">\n",
       "  <thead>\n",
       "    <tr style=\"text-align: right;\">\n",
       "      <th></th>\n",
       "      <th>Text</th>\n",
       "      <th>Source</th>\n",
       "      <th>URL</th>\n",
       "      <th>Label</th>\n",
       "      <th>text_preprocessed</th>\n",
       "      <th>count_words_text</th>\n",
       "      <th>num_nouns_text</th>\n",
       "      <th>num_verbs_text</th>\n",
       "      <th>num_adj_text</th>\n",
       "      <th>num_adv_text</th>\n",
       "      <th>sentiment_avg_text</th>\n",
       "      <th>features</th>\n",
       "    </tr>\n",
       "  </thead>\n",
       "  <tbody>\n",
       "    <tr>\n",
       "      <th>0</th>\n",
       "      <td>PJ em operação internacional de tráfico de dro...</td>\n",
       "      <td>DN</td>\n",
       "      <td>https://www.dn.pt/sociedade/pj-em-operacao-int...</td>\n",
       "      <td>1</td>\n",
       "      <td>PJ operação internacional tráfico droga apreen...</td>\n",
       "      <td>206</td>\n",
       "      <td>42</td>\n",
       "      <td>28</td>\n",
       "      <td>15</td>\n",
       "      <td>5</td>\n",
       "      <td>-0.7351</td>\n",
       "      <td>PJ operação internacional tráfico droga apreen...</td>\n",
       "    </tr>\n",
       "    <tr>\n",
       "      <th>1</th>\n",
       "      <td>O texto foi criado - numa universidade da Repú...</td>\n",
       "      <td>NaN</td>\n",
       "      <td>https://poligrafo.sapo.pt/fact-check/fact-chec...</td>\n",
       "      <td>1</td>\n",
       "      <td>texto criar - universidade República Checa - s...</td>\n",
       "      <td>130</td>\n",
       "      <td>40</td>\n",
       "      <td>22</td>\n",
       "      <td>13</td>\n",
       "      <td>1</td>\n",
       "      <td>0.0000</td>\n",
       "      <td>texto criar - universidade República Checa - s...</td>\n",
       "    </tr>\n",
       "    <tr>\n",
       "      <th>2</th>\n",
       "      <td>Nunca pague multas por conduzir sem carta ou s...</td>\n",
       "      <td>Contas Poupança</td>\n",
       "      <td>https://arquivo.pt/wayback/20200626170105mp_/h...</td>\n",
       "      <td>0</td>\n",
       "      <td>nunca paguar multa conduzir carta Cartão Cidad...</td>\n",
       "      <td>306</td>\n",
       "      <td>81</td>\n",
       "      <td>69</td>\n",
       "      <td>32</td>\n",
       "      <td>19</td>\n",
       "      <td>0.1677</td>\n",
       "      <td>nunca paguar multa conduzir carta Cartão Cidad...</td>\n",
       "    </tr>\n",
       "    <tr>\n",
       "      <th>3</th>\n",
       "      <td>Depois de António Guterres, uma estátua de D. ...</td>\n",
       "      <td>redes sociais</td>\n",
       "      <td>https://poligrafo.sapo.pt/fact-check/fact-chec...</td>\n",
       "      <td>0</td>\n",
       "      <td>António Guterres , estátua D. Afonso Henriques...</td>\n",
       "      <td>164</td>\n",
       "      <td>29</td>\n",
       "      <td>21</td>\n",
       "      <td>11</td>\n",
       "      <td>3</td>\n",
       "      <td>0.0000</td>\n",
       "      <td>António Guterres , estátua D. Afonso Henriques...</td>\n",
       "    </tr>\n",
       "    <tr>\n",
       "      <th>4</th>\n",
       "      <td>O MAR, uma droga gratuita que cura pelo menos ...</td>\n",
       "      <td>Coruja</td>\n",
       "      <td>https://arquivo.pt/wayback/20181012145922mp_/h...</td>\n",
       "      <td>0</td>\n",
       "      <td>MAR , droga gratuito cura menos 16 DOENÇAS ! F...</td>\n",
       "      <td>538</td>\n",
       "      <td>191</td>\n",
       "      <td>66</td>\n",
       "      <td>105</td>\n",
       "      <td>24</td>\n",
       "      <td>0.5093</td>\n",
       "      <td>MAR , droga gratuito cura menos 16 DOENÇAS ! F...</td>\n",
       "    </tr>\n",
       "  </tbody>\n",
       "</table>\n",
       "</div>"
      ],
      "text/plain": [
       "                                                Text           Source  \\\n",
       "0  PJ em operação internacional de tráfico de dro...               DN   \n",
       "1  O texto foi criado - numa universidade da Repú...              NaN   \n",
       "2  Nunca pague multas por conduzir sem carta ou s...  Contas Poupança   \n",
       "3  Depois de António Guterres, uma estátua de D. ...    redes sociais   \n",
       "4  O MAR, uma droga gratuita que cura pelo menos ...           Coruja   \n",
       "\n",
       "                                                 URL  Label  \\\n",
       "0  https://www.dn.pt/sociedade/pj-em-operacao-int...      1   \n",
       "1  https://poligrafo.sapo.pt/fact-check/fact-chec...      1   \n",
       "2  https://arquivo.pt/wayback/20200626170105mp_/h...      0   \n",
       "3  https://poligrafo.sapo.pt/fact-check/fact-chec...      0   \n",
       "4  https://arquivo.pt/wayback/20181012145922mp_/h...      0   \n",
       "\n",
       "                                   text_preprocessed  count_words_text  \\\n",
       "0  PJ operação internacional tráfico droga apreen...               206   \n",
       "1  texto criar - universidade República Checa - s...               130   \n",
       "2  nunca paguar multa conduzir carta Cartão Cidad...               306   \n",
       "3  António Guterres , estátua D. Afonso Henriques...               164   \n",
       "4  MAR , droga gratuito cura menos 16 DOENÇAS ! F...               538   \n",
       "\n",
       "   num_nouns_text  num_verbs_text  num_adj_text  num_adv_text  \\\n",
       "0              42              28            15             5   \n",
       "1              40              22            13             1   \n",
       "2              81              69            32            19   \n",
       "3              29              21            11             3   \n",
       "4             191              66           105            24   \n",
       "\n",
       "   sentiment_avg_text                                           features  \n",
       "0             -0.7351  PJ operação internacional tráfico droga apreen...  \n",
       "1              0.0000  texto criar - universidade República Checa - s...  \n",
       "2              0.1677  nunca paguar multa conduzir carta Cartão Cidad...  \n",
       "3              0.0000  António Guterres , estátua D. Afonso Henriques...  \n",
       "4              0.5093  MAR , droga gratuito cura menos 16 DOENÇAS ! F...  "
      ]
     },
     "execution_count": 117,
     "metadata": {},
     "output_type": "execute_result"
    }
   ],
   "source": [
    "df.head()"
   ]
  },
  {
   "cell_type": "code",
   "execution_count": 118,
   "metadata": {},
   "outputs": [],
   "source": [
    "df.to_csv(\"Final_preprocessed_dataset_portuguese.csv\", index = False)"
   ]
  },
  {
   "attachments": {},
   "cell_type": "markdown",
   "metadata": {},
   "source": [
    "Load dataset (just for model training and evaluation)"
   ]
  },
  {
   "cell_type": "code",
   "execution_count": 119,
   "metadata": {},
   "outputs": [],
   "source": [
    "#load dataset\n",
    "df = pd.read_csv(\"Final_preprocessed_dataset_portuguese.csv\")\n",
    "#df.fillna('', inplace=True)"
   ]
  },
  {
   "cell_type": "code",
   "execution_count": 120,
   "metadata": {},
   "outputs": [
    {
     "data": {
      "text/html": [
       "<div>\n",
       "<style scoped>\n",
       "    .dataframe tbody tr th:only-of-type {\n",
       "        vertical-align: middle;\n",
       "    }\n",
       "\n",
       "    .dataframe tbody tr th {\n",
       "        vertical-align: top;\n",
       "    }\n",
       "\n",
       "    .dataframe thead th {\n",
       "        text-align: right;\n",
       "    }\n",
       "</style>\n",
       "<table border=\"1\" class=\"dataframe\">\n",
       "  <thead>\n",
       "    <tr style=\"text-align: right;\">\n",
       "      <th></th>\n",
       "      <th>column</th>\n",
       "      <th>dtypes</th>\n",
       "      <th>nunique</th>\n",
       "      <th>sum_null</th>\n",
       "    </tr>\n",
       "  </thead>\n",
       "  <tbody>\n",
       "    <tr>\n",
       "      <th>0</th>\n",
       "      <td>Text</td>\n",
       "      <td>object</td>\n",
       "      <td>52283</td>\n",
       "      <td>0</td>\n",
       "    </tr>\n",
       "    <tr>\n",
       "      <th>1</th>\n",
       "      <td>Source</td>\n",
       "      <td>object</td>\n",
       "      <td>3101</td>\n",
       "      <td>13003</td>\n",
       "    </tr>\n",
       "    <tr>\n",
       "      <th>2</th>\n",
       "      <td>URL</td>\n",
       "      <td>object</td>\n",
       "      <td>63235</td>\n",
       "      <td>0</td>\n",
       "    </tr>\n",
       "    <tr>\n",
       "      <th>3</th>\n",
       "      <td>Label</td>\n",
       "      <td>int64</td>\n",
       "      <td>2</td>\n",
       "      <td>0</td>\n",
       "    </tr>\n",
       "    <tr>\n",
       "      <th>4</th>\n",
       "      <td>text_preprocessed</td>\n",
       "      <td>object</td>\n",
       "      <td>52246</td>\n",
       "      <td>0</td>\n",
       "    </tr>\n",
       "    <tr>\n",
       "      <th>5</th>\n",
       "      <td>count_words_text</td>\n",
       "      <td>int64</td>\n",
       "      <td>1459</td>\n",
       "      <td>0</td>\n",
       "    </tr>\n",
       "    <tr>\n",
       "      <th>6</th>\n",
       "      <td>num_nouns_text</td>\n",
       "      <td>int64</td>\n",
       "      <td>530</td>\n",
       "      <td>0</td>\n",
       "    </tr>\n",
       "    <tr>\n",
       "      <th>7</th>\n",
       "      <td>num_verbs_text</td>\n",
       "      <td>int64</td>\n",
       "      <td>408</td>\n",
       "      <td>0</td>\n",
       "    </tr>\n",
       "    <tr>\n",
       "      <th>8</th>\n",
       "      <td>num_adj_text</td>\n",
       "      <td>int64</td>\n",
       "      <td>311</td>\n",
       "      <td>0</td>\n",
       "    </tr>\n",
       "    <tr>\n",
       "      <th>9</th>\n",
       "      <td>num_adv_text</td>\n",
       "      <td>int64</td>\n",
       "      <td>153</td>\n",
       "      <td>0</td>\n",
       "    </tr>\n",
       "    <tr>\n",
       "      <th>10</th>\n",
       "      <td>sentiment_avg_text</td>\n",
       "      <td>float64</td>\n",
       "      <td>2346</td>\n",
       "      <td>0</td>\n",
       "    </tr>\n",
       "    <tr>\n",
       "      <th>11</th>\n",
       "      <td>features</td>\n",
       "      <td>object</td>\n",
       "      <td>52289</td>\n",
       "      <td>0</td>\n",
       "    </tr>\n",
       "  </tbody>\n",
       "</table>\n",
       "</div>"
      ],
      "text/plain": [
       "                column   dtypes  nunique  sum_null\n",
       "0                 Text   object    52283         0\n",
       "1               Source   object     3101     13003\n",
       "2                  URL   object    63235         0\n",
       "3                Label    int64        2         0\n",
       "4    text_preprocessed   object    52246         0\n",
       "5     count_words_text    int64     1459         0\n",
       "6       num_nouns_text    int64      530         0\n",
       "7       num_verbs_text    int64      408         0\n",
       "8         num_adj_text    int64      311         0\n",
       "9         num_adv_text    int64      153         0\n",
       "10  sentiment_avg_text  float64     2346         0\n",
       "11            features   object    52289         0"
      ]
     },
     "execution_count": 120,
     "metadata": {},
     "output_type": "execute_result"
    }
   ],
   "source": [
    "check(df)"
   ]
  },
  {
   "attachments": {},
   "cell_type": "markdown",
   "metadata": {},
   "source": [
    "Step 4: Feature Extraction"
   ]
  },
  {
   "attachments": {},
   "cell_type": "markdown",
   "metadata": {},
   "source": [
    "TF-IDF with Word Embeddings"
   ]
  },
  {
   "cell_type": "code",
   "execution_count": 121,
   "metadata": {},
   "outputs": [],
   "source": [
    "# from sklearn.feature_extraction.text import TfidfVectorizer\n",
    "# from gensim.models import Word2Vec\n",
    "# import numpy as np\n",
    "\n",
    "# #Capture both the importance of words in a document based on their frequency and the semantic relationships between words\n",
    "# #This can potentially improve the performance of a text classification model by leveraging both local and global textual information\n",
    "\n",
    "# #Create TF-IDF Vectors\n",
    "# tfidf_vectorizer = TfidfVectorizer()\n",
    "# tfidf_vectors = tfidf_vectorizer.fit_transform(df['lemmatized_text_without_stopwords'])"
   ]
  },
  {
   "cell_type": "code",
   "execution_count": 122,
   "metadata": {},
   "outputs": [],
   "source": [
    "# #Train Word2Vec Model\n",
    "# sentences = [text.split() for text in df['lemmatized_text_without_stopwords']]\n",
    "# word2vec_model = Word2Vec(sentences, vector_size=300, window=5, min_count=1)  # Adjust the parameters as per your requirements"
   ]
  },
  {
   "cell_type": "code",
   "execution_count": 123,
   "metadata": {},
   "outputs": [],
   "source": [
    "# # Step 4: Map TF-IDF Vectors to Word2Vec Space\n",
    "# combined_vectors = []\n",
    "\n",
    "# for i in range(len(df['lemmatized_text_without_stopwords'])):\n",
    "#     tfidf_vector = tfidf_vectors[i]\n",
    "#     word_embeddings = []\n",
    "    \n",
    "#     for word in df['lemmatized_text_without_stopwords'][i].split():\n",
    "#         if word in word2vec_model.wv:\n",
    "#             word_embeddings.append(word2vec_model.wv[word])\n",
    "\n",
    "#     if len(word_embeddings) > 0:\n",
    "#         tfidf_weights = tfidf_vector.toarray().ravel()\n",
    "        \n",
    "#         if len(tfidf_weights) != len(word_embeddings):\n",
    "#             # Handle mismatched dimensions\n",
    "#             tfidf_weights = np.resize(tfidf_weights, len(word_embeddings))\n",
    "        \n",
    "#         if np.sum(tfidf_weights) != 0:\n",
    "#             combined_vector = np.average(word_embeddings, weights=tfidf_weights, axis=0)\n",
    "#         else:\n",
    "#             combined_vector = np.mean(word_embeddings, axis=0)\n",
    "        \n",
    "#         combined_vectors.append(combined_vector)\n",
    "#     else:\n",
    "#         combined_vectors.append(np.zeros(word2vec_model.vector_size))\n",
    "\n",
    "# # Step 5: Use Combined Vectors for Classification\n",
    "# # Use combined_vectors as input features for your text classification model"
   ]
  },
  {
   "attachments": {},
   "cell_type": "markdown",
   "metadata": {},
   "source": [
    "TF-IDF"
   ]
  },
  {
   "cell_type": "code",
   "execution_count": 124,
   "metadata": {},
   "outputs": [],
   "source": [
    "tfidf = TfidfVectorizer(ngram_range=(1, 3)) #max_features=max_feat\n",
    "X_tfidf = tfidf.fit_transform(df['features'])"
   ]
  },
  {
   "attachments": {},
   "cell_type": "markdown",
   "metadata": {},
   "source": [
    "Bag of Words"
   ]
  },
  {
   "cell_type": "code",
   "execution_count": 125,
   "metadata": {},
   "outputs": [],
   "source": [
    "# cv = CountVectorizer(ngram_range=(1, 3))\n",
    "# X_cv = cv.fit_transform(df['features'])"
   ]
  },
  {
   "attachments": {},
   "cell_type": "markdown",
   "metadata": {},
   "source": [
    "Word Embedding"
   ]
  },
  {
   "cell_type": "code",
   "execution_count": 126,
   "metadata": {},
   "outputs": [],
   "source": [
    "# # Tokenize the combined column\n",
    "# tokenizer = Tokenizer() #num_words=5000, split=' '\n",
    "# tokenizer.fit_on_texts(df['features'])\n",
    "\n",
    "# # Convert text to sequences of integers\n",
    "# X_tokenized = tokenizer.texts_to_sequences(df['features'])\n",
    "\n",
    "# # Pad sequences to a maximum length\n",
    "# X_embedded = pad_sequences(X_tokenized, maxlen=1000, padding='post')"
   ]
  },
  {
   "attachments": {},
   "cell_type": "markdown",
   "metadata": {},
   "source": [
    "One-Hot Encoding (since we're only using 0 and 1 for labelling, one-hot encoding is overkill)"
   ]
  },
  {
   "cell_type": "code",
   "execution_count": 127,
   "metadata": {},
   "outputs": [],
   "source": [
    "#encoder = LabelEncoder()\n",
    "#y = encoder.fit_transform(df['label'])\n",
    "#y = np_utils.to_categorical(y)"
   ]
  },
  {
   "attachments": {},
   "cell_type": "markdown",
   "metadata": {},
   "source": [
    "Count Vectorizer"
   ]
  },
  {
   "cell_type": "code",
   "execution_count": 128,
   "metadata": {},
   "outputs": [],
   "source": [
    "#cv = CountVectorizer(ngram_range=(1, 3))\n",
    "#X_cv = cv.fit_transform(df['features'])"
   ]
  },
  {
   "attachments": {},
   "cell_type": "markdown",
   "metadata": {},
   "source": [
    "NER (Named Entity Recognition)"
   ]
  },
  {
   "cell_type": "code",
   "execution_count": 129,
   "metadata": {},
   "outputs": [],
   "source": [
    "# tokenizer = BertTokenizer.from_pretrained('bert-base-uncased')\n",
    "# model = TFBertModel.from_pretrained('bert-base-uncased')\n",
    "# X_tokenized = df['text'].apply((lambda x: tokenizer.encode(x, add_special_tokens=True)))\n",
    "# X_padded = np.array([i + [0]*(200-len(i)) for i in X_tokenized.values])\n",
    "# X_attention_mask = np.where(X_padded != 0, 1, 0)\n",
    "# X_bert = model.predict([X_padded, X_attention_mask], verbose=1)"
   ]
  },
  {
   "attachments": {},
   "cell_type": "markdown",
   "metadata": {},
   "source": [
    "Step 5: Split the Data into training and testing datasets"
   ]
  },
  {
   "cell_type": "code",
   "execution_count": 130,
   "metadata": {},
   "outputs": [],
   "source": [
    "y = df['Label']  #comment in case one-hot encoding is used\n",
    "X_train, X_test, y_train, y_test = train_test_split(X_tfidf, y, test_size=0.2, random_state=42) #changed X_tfidf to combined_vectors"
   ]
  },
  {
   "attachments": {},
   "cell_type": "markdown",
   "metadata": {},
   "source": [
    "Step 6: Feature Selection"
   ]
  },
  {
   "attachments": {},
   "cell_type": "markdown",
   "metadata": {},
   "source": [
    "TruncatedSVD"
   ]
  },
  {
   "cell_type": "code",
   "execution_count": 131,
   "metadata": {},
   "outputs": [],
   "source": [
    "# from sklearn.decomposition import TruncatedSVD\n",
    "\n",
    "# # Create TruncatedSVD object with desired number of components\n",
    "# svd = TruncatedSVD(n_components=100)\n",
    "\n",
    "# # Fit and transform X_train\n",
    "# X_train_svd = svd.fit_transform(X_train)\n",
    "\n",
    "# # Transform X_test\n",
    "# X_test_svd = svd.transform(X_test)"
   ]
  },
  {
   "attachments": {},
   "cell_type": "markdown",
   "metadata": {},
   "source": [
    "Chi Square Statistic"
   ]
  },
  {
   "cell_type": "code",
   "execution_count": 132,
   "metadata": {},
   "outputs": [],
   "source": [
    "#selector = SelectKBest(chi2, k=100)\n",
    "#X_cv_ig = selector.fit_transform(X_cv, y)"
   ]
  },
  {
   "attachments": {},
   "cell_type": "markdown",
   "metadata": {},
   "source": [
    "Pearson Correlation"
   ]
  },
  {
   "cell_type": "code",
   "execution_count": 133,
   "metadata": {},
   "outputs": [],
   "source": [
    "#df_corr = df[['sentiment_title', 'sentiment_text']]\n",
    "#selector = SelectKBest(lambda X, y: np.array(list(map(lambda x: pearsonr(x, y), X.T))).T[0], k=1)\n",
    "#X_corr = selector.fit_transform(df_corr, y)"
   ]
  },
  {
   "attachments": {},
   "cell_type": "markdown",
   "metadata": {},
   "source": [
    "Step 7: Train and evaluate the ML models"
   ]
  },
  {
   "cell_type": "code",
   "execution_count": 134,
   "metadata": {},
   "outputs": [],
   "source": [
    "from sklearn.model_selection import cross_val_score\n",
    "from sklearn.metrics import confusion_matrix\n",
    "from sklearn.metrics import classification_report\n",
    "from sklearn.metrics import accuracy_score\n",
    "from mlxtend.plotting import plot_confusion_matrix\n",
    "import matplotlib.pyplot as plt\n",
    "import time\n",
    "\n",
    "#Ray helps reduce the training time while also maximising the performance through hyperparameter tuning\n",
    "from sklearn.datasets import make_classification\n",
    "import ray\n",
    "from ray import tune\n",
    "from ray.tune.schedulers import ASHAScheduler\n",
    "from ray.util.joblib import register_ray\n",
    "\n",
    "results_df = pd.DataFrame(columns=['Classifier', 'Accuracy', 'Precision', 'Recall', 'F1-Score', 'Training Time', 'Evaluation Time', \"Number of Features\"])"
   ]
  },
  {
   "attachments": {},
   "cell_type": "markdown",
   "metadata": {},
   "source": [
    "Decision Trees"
   ]
  },
  {
   "cell_type": "code",
   "execution_count": 135,
   "metadata": {},
   "outputs": [],
   "source": [
    "# normal training\n",
    "start_time = time.time()\n",
    "dt = DecisionTreeClassifier(random_state=42)\n",
    "dt.fit(X_train, y_train)\n",
    "training_time = time.time() - start_time"
   ]
  },
  {
   "cell_type": "code",
   "execution_count": 136,
   "metadata": {},
   "outputs": [
    {
     "name": "stdout",
     "output_type": "stream",
     "text": [
      "Decision Trees:\n",
      "              precision    recall  f1-score   support\n",
      "\n",
      "           0       0.94      0.95      0.94      6285\n",
      "           1       0.95      0.94      0.94      6363\n",
      "\n",
      "    accuracy                           0.94     12648\n",
      "   macro avg       0.94      0.94      0.94     12648\n",
      "weighted avg       0.94      0.94      0.94     12648\n",
      "\n",
      "\n",
      "----------------------Confusion Matrix---------------------- \n",
      "\n"
     ]
    },
    {
     "data": {
      "image/png": "[encoded data removed]",
      "text/plain": [
       "<Figure size 640x480 with 2 Axes>"
      ]
     },
     "metadata": {},
     "output_type": "display_data"
    }
   ],
   "source": [
    "start_time = time.time()\n",
    "y_pred_test=dt.predict(X_test)\n",
    "evaluation_time = time.time() - start_time\n",
    "\n",
    "# Report and confusion matrix\n",
    "dt_report = classification_report(y_test, y_pred_test, output_dict=True)\n",
    "accuracy = accuracy_score(y_test, y_pred_test)\n",
    "\n",
    "results_df.loc[0] = ['Decision Trees',\n",
    "                     accuracy,\n",
    "                     dt_report['macro avg']['precision'], \n",
    "                     dt_report['macro avg']['recall'], \n",
    "                     dt_report['macro avg']['f1-score'], training_time, evaluation_time, \"No max features\"]\n",
    "\n",
    "print(\"Decision Trees:\")\n",
    "print(classification_report(y_test, y_pred_test))\n",
    "\n",
    "print(\"\\n----------------------Confusion Matrix---------------------- \\n\")\n",
    "conf_mat = confusion_matrix(y_test, y_pred_test)\n",
    "plot_confusion_matrix(conf_mat,\n",
    "                    show_normed=True, colorbar=True,\n",
    "                    class_names=['Fake', 'Real'])\n",
    "plt.show()"
   ]
  },
  {
   "attachments": {},
   "cell_type": "markdown",
   "metadata": {},
   "source": [
    "Random Forest"
   ]
  },
  {
   "cell_type": "code",
   "execution_count": 137,
   "metadata": {},
   "outputs": [],
   "source": [
    "start_time = time.time()\n",
    "clf_rf = RandomForestClassifier()\n",
    "clf_rf.fit(X_train, y_train)\n",
    "training_time = time.time() - start_time"
   ]
  },
  {
   "cell_type": "code",
   "execution_count": 138,
   "metadata": {},
   "outputs": [
    {
     "name": "stdout",
     "output_type": "stream",
     "text": [
      "Random Forest:\n",
      "              precision    recall  f1-score   support\n",
      "\n",
      "           0       0.92      0.91      0.92      6285\n",
      "           1       0.91      0.92      0.92      6363\n",
      "\n",
      "    accuracy                           0.92     12648\n",
      "   macro avg       0.92      0.92      0.92     12648\n",
      "weighted avg       0.92      0.92      0.92     12648\n",
      "\n",
      "\n",
      "----------------------Confusion Matrix---------------------- \n",
      "\n"
     ]
    },
    {
     "data": {
      "image/png": "[encoded data removed]",
      "text/plain": [
       "<Figure size 640x480 with 2 Axes>"
      ]
     },
     "metadata": {},
     "output_type": "display_data"
    }
   ],
   "source": [
    "start_time = time.time()\n",
    "y_pred_test=clf_rf.predict(X_test)\n",
    "evaluation_time = time.time() - start_time\n",
    "\n",
    "rf_report = classification_report(y_test, y_pred_test, output_dict=True)\n",
    "accuracy = accuracy_score(y_test, y_pred_test)\n",
    "\n",
    "results_df.loc[1] = ['Random Forest',\n",
    "                     accuracy,\n",
    "                     rf_report['macro avg']['precision'], \n",
    "                     rf_report['macro avg']['recall'], \n",
    "                     rf_report['macro avg']['f1-score'], training_time, evaluation_time, \"No max features\"]\n",
    "\n",
    "print(\"Random Forest:\")\n",
    "print(classification_report(y_test, y_pred_test))\n",
    "\n",
    "print(\"\\n----------------------Confusion Matrix---------------------- \\n\")\n",
    "conf_mat = confusion_matrix(y_test, y_pred_test)\n",
    "plot_confusion_matrix(conf_mat,\n",
    "                    show_normed=True, colorbar=True,\n",
    "                    class_names=['Fake', 'Real'])\n",
    "plt.show()"
   ]
  },
  {
   "attachments": {},
   "cell_type": "markdown",
   "metadata": {},
   "source": [
    "Extra Trees"
   ]
  },
  {
   "cell_type": "code",
   "execution_count": 139,
   "metadata": {},
   "outputs": [],
   "source": [
    "start_time = time.time()\n",
    "clf_et = ExtraTreesClassifier()\n",
    "clf_et.fit(X_train, y_train)\n",
    "training_time = time.time() - start_time"
   ]
  },
  {
   "cell_type": "code",
   "execution_count": 140,
   "metadata": {},
   "outputs": [
    {
     "name": "stdout",
     "output_type": "stream",
     "text": [
      "Extra Trees:\n",
      "              precision    recall  f1-score   support\n",
      "\n",
      "           0       0.94      0.90      0.92      6285\n",
      "           1       0.90      0.94      0.92      6363\n",
      "\n",
      "    accuracy                           0.92     12648\n",
      "   macro avg       0.92      0.92      0.92     12648\n",
      "weighted avg       0.92      0.92      0.92     12648\n",
      "\n",
      "\n",
      "----------------------Confusion Matrix---------------------- \n",
      "\n"
     ]
    },
    {
     "data": {
      "image/png": "[encoded data removed]",
      "text/plain": [
       "<Figure size 640x480 with 2 Axes>"
      ]
     },
     "metadata": {},
     "output_type": "display_data"
    }
   ],
   "source": [
    "start_time = time.time()\n",
    "y_pred_test=clf_et.predict(X_test)\n",
    "evaluation_time = time.time() - start_time\n",
    "\n",
    "et_report = classification_report(y_test, y_pred_test, output_dict=True)\n",
    "accuracy = accuracy_score(y_test, y_pred_test)\n",
    "\n",
    "results_df.loc[2] = ['Extra Trees',\n",
    "                     accuracy,\n",
    "                     et_report['macro avg']['precision'], \n",
    "                     et_report['macro avg']['recall'], \n",
    "                     et_report['macro avg']['f1-score'], training_time, evaluation_time, \"No max features\"]\n",
    "\n",
    "print(\"Extra Trees:\")\n",
    "print(classification_report(y_test, y_pred_test))\n",
    "\n",
    "print(\"\\n----------------------Confusion Matrix---------------------- \\n\")\n",
    "conf_mat = confusion_matrix(y_test, y_pred_test)\n",
    "plot_confusion_matrix(conf_mat,\n",
    "                    show_normed=True, colorbar=True,\n",
    "                    class_names=['Fake', 'Real'])\n",
    "plt.show()"
   ]
  },
  {
   "attachments": {},
   "cell_type": "markdown",
   "metadata": {},
   "source": [
    "XGB"
   ]
  },
  {
   "cell_type": "code",
   "execution_count": 141,
   "metadata": {},
   "outputs": [],
   "source": [
    "start_time = time.time()\n",
    "clf_xgb = XGBClassifier()\n",
    "clf_xgb.fit(X_train, y_train)\n",
    "training_time = time.time() - start_time"
   ]
  },
  {
   "cell_type": "code",
   "execution_count": 142,
   "metadata": {},
   "outputs": [
    {
     "name": "stdout",
     "output_type": "stream",
     "text": [
      "XG Boost:\n",
      "              precision    recall  f1-score   support\n",
      "\n",
      "           0       0.94      0.97      0.96      6285\n",
      "           1       0.97      0.94      0.95      6363\n",
      "\n",
      "    accuracy                           0.95     12648\n",
      "   macro avg       0.96      0.95      0.95     12648\n",
      "weighted avg       0.96      0.95      0.95     12648\n",
      "\n",
      "\n",
      "----------------------Confusion Matrix---------------------- \n",
      "\n"
     ]
    },
    {
     "data": {
      "image/png": "[encoded data removed]",
      "text/plain": [
       "<Figure size 640x480 with 2 Axes>"
      ]
     },
     "metadata": {},
     "output_type": "display_data"
    }
   ],
   "source": [
    "start_time = time.time()\n",
    "y_pred_test=clf_xgb.predict(X_test)\n",
    "evaluation_time = time.time() - start_time\n",
    "\n",
    "xgb_report = classification_report(y_test, y_pred_test, output_dict=True)\n",
    "accuracy = accuracy_score(y_test, y_pred_test)\n",
    "\n",
    "results_df.loc[3] = ['XG Boost',\n",
    "                     accuracy,\n",
    "                     xgb_report['macro avg']['precision'], \n",
    "                     xgb_report['macro avg']['recall'], \n",
    "                     xgb_report['macro avg']['f1-score'], training_time, evaluation_time, \"No max features\"]\n",
    "\n",
    "print(\"XG Boost:\")\n",
    "print(classification_report(y_test, y_pred_test))\n",
    "\n",
    "print(\"\\n----------------------Confusion Matrix---------------------- \\n\")\n",
    "conf_mat = confusion_matrix(y_test, y_pred_test)\n",
    "plot_confusion_matrix(conf_mat,\n",
    "                    show_normed=True, colorbar=True,\n",
    "                    class_names=['Fake', 'Real'])\n",
    "plt.show()"
   ]
  },
  {
   "attachments": {},
   "cell_type": "markdown",
   "metadata": {},
   "source": [
    "XGB with RFE"
   ]
  },
  {
   "cell_type": "code",
   "execution_count": 143,
   "metadata": {},
   "outputs": [],
   "source": [
    "# tfidf = TfidfVectorizer(ngram_range=(1, 3)) #max_features=max_feat\n",
    "# X_tfidf = tfidf.fit_transform(df['text_preprocessed'])"
   ]
  },
  {
   "cell_type": "code",
   "execution_count": 144,
   "metadata": {},
   "outputs": [],
   "source": [
    "# # Create an instance of RandomizedPCA\n",
    "# from sklearn.decomposition import PCA as RandomizedPCA\n",
    "\n",
    "# from sklearn.decomposition import TruncatedSVD\n",
    "\n",
    "# n_components = 100\n",
    "# svd = TruncatedSVD(n_components=n_components)\n",
    "\n",
    "# # Apply SVD on the TF-IDF matrix\n",
    "# X_svd = svd.fit_transform(X_tfidf)"
   ]
  },
  {
   "cell_type": "code",
   "execution_count": 145,
   "metadata": {},
   "outputs": [],
   "source": [
    "# n_components = 100\n",
    "# rpca = RandomizedPCA(n_components=n_components)\n",
    "\n",
    "# # Apply RandomizedPCA to reduce the dimensionality of the TF-IDF matrix\n",
    "# X_rpca = rpca.fit_transform(X_tfidf.toarray())"
   ]
  },
  {
   "cell_type": "code",
   "execution_count": 146,
   "metadata": {},
   "outputs": [],
   "source": [
    "# # Split the data into training and testing sets\n",
    "# X_train, X_test, y_train, y_test = train_test_split(X_rpca, df['label'], test_size=0.2, random_state=42)\n",
    "\n",
    "# # Create an instance of XGBoost classifier\n",
    "# xgb_classifier = XGBClassifier()\n",
    "\n",
    "# # Train the classifier on the training data\n",
    "# xgb_classifier.fit(X_train, y_train)\n",
    "\n",
    "# # Predict on the testing data\n",
    "# y_pred = xgb_classifier.predict(X_test)\n",
    "\n",
    "# print(classification_report(y_test, y_pred))"
   ]
  },
  {
   "attachments": {},
   "cell_type": "markdown",
   "metadata": {},
   "source": [
    "RFE (Recursive Feature Elimination)"
   ]
  },
  {
   "cell_type": "code",
   "execution_count": 147,
   "metadata": {},
   "outputs": [],
   "source": [
    "# from sklearn.feature_selection import RFE\n",
    "\n",
    "# # Step 3: Initialize RFE with the base model and desired number of features to retain\n",
    "# num_features_to_retain = 1000\n",
    "# rfe = RFE(estimator=base_model, n_features_to_select=num_features_to_retain)\n",
    "\n",
    "# # Step 4: Fit RFE to the training data\n",
    "# rfe.fit(X_train, y_train)\n",
    "\n",
    "# # Step 5: Retrieve the selected features\n",
    "# selected_features = X_train.columns[rfe.support_]\n",
    "\n",
    "# # Step 6: Transform the training and testing data to include only the selected features\n",
    "# X_train_selected = rfe.transform(X_train)\n",
    "# X_test_selected = rfe.transform(X_test)"
   ]
  },
  {
   "attachments": {},
   "cell_type": "markdown",
   "metadata": {},
   "source": [
    "Adaboost"
   ]
  },
  {
   "cell_type": "code",
   "execution_count": 148,
   "metadata": {},
   "outputs": [],
   "source": [
    "start_time = time.time()\n",
    "clf_adab = AdaBoostClassifier()\n",
    "clf_adab.fit(X_train, y_train)\n",
    "training_time = time.time() - start_time"
   ]
  },
  {
   "cell_type": "code",
   "execution_count": 149,
   "metadata": {},
   "outputs": [
    {
     "name": "stdout",
     "output_type": "stream",
     "text": [
      "Adaboost:\n",
      "              precision    recall  f1-score   support\n",
      "\n",
      "           0       0.92      0.96      0.94      6285\n",
      "           1       0.96      0.92      0.94      6363\n",
      "\n",
      "    accuracy                           0.94     12648\n",
      "   macro avg       0.94      0.94      0.94     12648\n",
      "weighted avg       0.94      0.94      0.94     12648\n",
      "\n",
      "\n",
      "----------------------Confusion Matrix---------------------- \n",
      "\n"
     ]
    },
    {
     "data": {
      "image/png": "[encoded data removed]",
      "text/plain": [
       "<Figure size 640x480 with 2 Axes>"
      ]
     },
     "metadata": {},
     "output_type": "display_data"
    }
   ],
   "source": [
    "start_time = time.time()\n",
    "y_pred_test=clf_adab.predict(X_test)\n",
    "evaluation_time = time.time() - start_time\n",
    "\n",
    "adab_report = classification_report(y_test, y_pred_test, output_dict=True)\n",
    "accuracy = accuracy_score(y_test, y_pred_test)\n",
    "\n",
    "results_df.loc[4] = ['Adaboost',\n",
    "                     accuracy,\n",
    "                     adab_report['macro avg']['precision'], \n",
    "                     adab_report['macro avg']['recall'], \n",
    "                     adab_report['macro avg']['f1-score'], training_time, evaluation_time, \"No max features\"]\n",
    "\n",
    "print(\"Adaboost:\")\n",
    "print(classification_report(y_test, y_pred_test))\n",
    "\n",
    "print(\"\\n----------------------Confusion Matrix---------------------- \\n\")\n",
    "conf_mat = confusion_matrix(y_test, y_pred_test)\n",
    "plot_confusion_matrix(conf_mat,\n",
    "                    show_normed=True, colorbar=True,\n",
    "                    class_names=['Fake', 'Real'])\n",
    "plt.show()"
   ]
  },
  {
   "attachments": {},
   "cell_type": "markdown",
   "metadata": {},
   "source": [
    "Gradient Boosting"
   ]
  },
  {
   "cell_type": "code",
   "execution_count": 150,
   "metadata": {},
   "outputs": [],
   "source": [
    "start_time = time.time()\n",
    "clf_gb = GradientBoostingClassifier()\n",
    "clf_gb.fit(X_train, y_train)\n",
    "training_time = time.time() - start_time"
   ]
  },
  {
   "cell_type": "code",
   "execution_count": 151,
   "metadata": {},
   "outputs": [
    {
     "name": "stdout",
     "output_type": "stream",
     "text": [
      "Gradient Boosting:\n",
      "              precision    recall  f1-score   support\n",
      "\n",
      "           0       0.91      0.98      0.95      6285\n",
      "           1       0.98      0.91      0.94      6363\n",
      "\n",
      "    accuracy                           0.95     12648\n",
      "   macro avg       0.95      0.95      0.95     12648\n",
      "weighted avg       0.95      0.95      0.95     12648\n",
      "\n",
      "\n",
      "----------------------Confusion Matrix---------------------- \n",
      "\n"
     ]
    },
    {
     "data": {
      "image/png": "[encoded data removed]",
      "text/plain": [
       "<Figure size 640x480 with 2 Axes>"
      ]
     },
     "metadata": {},
     "output_type": "display_data"
    }
   ],
   "source": [
    "start_time = time.time()\n",
    "y_pred_test=clf_gb.predict(X_test)\n",
    "evaluation_time = time.time() - start_time\n",
    "\n",
    "gb_report = classification_report(y_test, y_pred_test, output_dict=True)\n",
    "accuracy = accuracy_score(y_test, y_pred_test)\n",
    "\n",
    "results_df.loc[5] = ['Gradient Boosting',\n",
    "                     accuracy,\n",
    "                     gb_report['macro avg']['precision'], \n",
    "                     gb_report['macro avg']['recall'], \n",
    "                     gb_report['macro avg']['f1-score'], training_time, evaluation_time, \"No max features\"]\n",
    "\n",
    "print(\"Gradient Boosting:\")\n",
    "print(classification_report(y_test, y_pred_test))\n",
    "\n",
    "print(\"\\n----------------------Confusion Matrix---------------------- \\n\")\n",
    "conf_mat = confusion_matrix(y_test, y_pred_test)\n",
    "plot_confusion_matrix(conf_mat,\n",
    "                    show_normed=True, colorbar=True,\n",
    "                    class_names=['Fake', 'Real'])\n",
    "plt.show()"
   ]
  },
  {
   "attachments": {},
   "cell_type": "markdown",
   "metadata": {},
   "source": [
    "Bagging"
   ]
  },
  {
   "cell_type": "code",
   "execution_count": 152,
   "metadata": {},
   "outputs": [],
   "source": [
    "start_time = time.time()\n",
    "clf_bag = BaggingClassifier()\n",
    "clf_bag.fit(X_train, y_train)\n",
    "training_time = time.time() - start_time"
   ]
  },
  {
   "cell_type": "code",
   "execution_count": 153,
   "metadata": {},
   "outputs": [
    {
     "name": "stdout",
     "output_type": "stream",
     "text": [
      "Bagging:\n",
      "              precision    recall  f1-score   support\n",
      "\n",
      "           0       0.93      0.97      0.95      6285\n",
      "           1       0.97      0.93      0.95      6363\n",
      "\n",
      "    accuracy                           0.95     12648\n",
      "   macro avg       0.95      0.95      0.95     12648\n",
      "weighted avg       0.95      0.95      0.95     12648\n",
      "\n",
      "\n",
      "----------------------Confusion Matrix---------------------- \n",
      "\n"
     ]
    },
    {
     "data": {
      "image/png": "[encoded data removed]",
      "text/plain": [
       "<Figure size 640x480 with 2 Axes>"
      ]
     },
     "metadata": {},
     "output_type": "display_data"
    }
   ],
   "source": [
    "start_time = time.time()\n",
    "y_pred_test=clf_bag.predict(X_test)\n",
    "evaluation_time = time.time() - start_time\n",
    "\n",
    "bag_report = classification_report(y_test, y_pred_test, output_dict=True)\n",
    "accuracy = accuracy_score(y_test, y_pred_test)\n",
    "\n",
    "results_df.loc[6] = ['Bagging',\n",
    "                     accuracy,\n",
    "                     bag_report['macro avg']['precision'], \n",
    "                     bag_report['macro avg']['recall'], \n",
    "                     bag_report['macro avg']['f1-score'], training_time, evaluation_time, \"No max features\"]\n",
    "\n",
    "print(\"Bagging:\")\n",
    "print(classification_report(y_test, y_pred_test))\n",
    "\n",
    "print(\"\\n----------------------Confusion Matrix---------------------- \\n\")\n",
    "conf_mat = confusion_matrix(y_test, y_pred_test)\n",
    "plot_confusion_matrix(conf_mat,\n",
    "                    show_normed=True, colorbar=True,\n",
    "                    class_names=['Fake', 'Real'])\n",
    "plt.show()"
   ]
  },
  {
   "attachments": {},
   "cell_type": "markdown",
   "metadata": {},
   "source": [
    "Logistic Regression"
   ]
  },
  {
   "cell_type": "code",
   "execution_count": 154,
   "metadata": {},
   "outputs": [],
   "source": [
    "start_time = time.time()\n",
    "clf_lr = LogisticRegression(max_iter=500)\n",
    "clf_lr.fit(X_train, y_train)\n",
    "training_time = time.time() - start_time"
   ]
  },
  {
   "cell_type": "code",
   "execution_count": 155,
   "metadata": {},
   "outputs": [
    {
     "name": "stdout",
     "output_type": "stream",
     "text": [
      "Logistic Regression:\n",
      "              precision    recall  f1-score   support\n",
      "\n",
      "           0       0.92      0.94      0.93      6285\n",
      "           1       0.94      0.92      0.93      6363\n",
      "\n",
      "    accuracy                           0.93     12648\n",
      "   macro avg       0.93      0.93      0.93     12648\n",
      "weighted avg       0.93      0.93      0.93     12648\n",
      "\n",
      "\n",
      "----------------------Confusion Matrix---------------------- \n",
      "\n"
     ]
    },
    {
     "data": {
      "image/png": "[encoded data removed]",
      "text/plain": [
       "<Figure size 640x480 with 2 Axes>"
      ]
     },
     "metadata": {},
     "output_type": "display_data"
    }
   ],
   "source": [
    "start_time = time.time()\n",
    "y_pred_test=clf_lr.predict(X_test)\n",
    "evaluation_time = time.time() - start_time\n",
    "\n",
    "lr_report = classification_report(y_test, y_pred_test, output_dict=True)\n",
    "accuracy = accuracy_score(y_test, y_pred_test)\n",
    "\n",
    "results_df.loc[7] = ['Logistic Regression',\n",
    "                     accuracy,\n",
    "                     lr_report['macro avg']['precision'], \n",
    "                     lr_report['macro avg']['recall'], \n",
    "                     lr_report['macro avg']['f1-score'], training_time, evaluation_time, \"No max features\"]\n",
    "\n",
    "print(\"Logistic Regression:\")\n",
    "print(classification_report(y_test, y_pred_test))\n",
    "\n",
    "print(\"\\n----------------------Confusion Matrix---------------------- \\n\")\n",
    "conf_mat = confusion_matrix(y_test, y_pred_test)\n",
    "plot_confusion_matrix(conf_mat,\n",
    "                    show_normed=True, colorbar=True,\n",
    "                    class_names=['Fake', 'Real'])\n",
    "plt.show()"
   ]
  },
  {
   "attachments": {},
   "cell_type": "markdown",
   "metadata": {},
   "source": [
    "SVC"
   ]
  },
  {
   "cell_type": "code",
   "execution_count": 156,
   "metadata": {},
   "outputs": [],
   "source": [
    "start_time = time.time()\n",
    "clf_svc = SVC()\n",
    "clf_svc.fit(X_train, y_train)\n",
    "training_time = time.time() - start_time"
   ]
  },
  {
   "cell_type": "code",
   "execution_count": 157,
   "metadata": {},
   "outputs": [
    {
     "name": "stdout",
     "output_type": "stream",
     "text": [
      "SVC:\n",
      "              precision    recall  f1-score   support\n",
      "\n",
      "           0       0.93      0.95      0.94      6285\n",
      "           1       0.95      0.93      0.94      6363\n",
      "\n",
      "    accuracy                           0.94     12648\n",
      "   macro avg       0.94      0.94      0.94     12648\n",
      "weighted avg       0.94      0.94      0.94     12648\n",
      "\n",
      "\n",
      "----------------------Confusion Matrix---------------------- \n",
      "\n"
     ]
    },
    {
     "data": {
      "image/png": "[encoded data removed]",
      "text/plain": [
       "<Figure size 640x480 with 2 Axes>"
      ]
     },
     "metadata": {},
     "output_type": "display_data"
    }
   ],
   "source": [
    "start_time = time.time()\n",
    "y_pred_test=clf_svc.predict(X_test)\n",
    "evaluation_time = time.time() - start_time\n",
    "\n",
    "svc_report = classification_report(y_test, y_pred_test, output_dict=True)\n",
    "accuracy = accuracy_score(y_test, y_pred_test)\n",
    "\n",
    "results_df.loc[8] = ['SVC',\n",
    "                     accuracy,\n",
    "                     svc_report['macro avg']['precision'], \n",
    "                     svc_report['macro avg']['recall'], \n",
    "                     svc_report['macro avg']['f1-score'], training_time, evaluation_time, \"No max features\"]\n",
    "\n",
    "print(\"SVC:\")\n",
    "print(classification_report(y_test, y_pred_test))\n",
    "\n",
    "print(\"\\n----------------------Confusion Matrix---------------------- \\n\")\n",
    "conf_mat = confusion_matrix(y_test, y_pred_test)\n",
    "plot_confusion_matrix(conf_mat,\n",
    "                    show_normed=True, colorbar=True,\n",
    "                    class_names=['Fake', 'Real'])\n",
    "plt.show()"
   ]
  },
  {
   "attachments": {},
   "cell_type": "markdown",
   "metadata": {},
   "source": [
    "Linear SVC"
   ]
  },
  {
   "cell_type": "code",
   "execution_count": 158,
   "metadata": {},
   "outputs": [],
   "source": [
    "start_time = time.time()\n",
    "clf_linsvc = LinearSVC()\n",
    "clf_linsvc.fit(X_train, y_train)\n",
    "training_time = time.time() - start_time"
   ]
  },
  {
   "cell_type": "code",
   "execution_count": 159,
   "metadata": {},
   "outputs": [
    {
     "name": "stdout",
     "output_type": "stream",
     "text": [
      "Linear SVC:\n",
      "              precision    recall  f1-score   support\n",
      "\n",
      "           0       0.94      0.96      0.95      6285\n",
      "           1       0.96      0.94      0.95      6363\n",
      "\n",
      "    accuracy                           0.95     12648\n",
      "   macro avg       0.95      0.95      0.95     12648\n",
      "weighted avg       0.95      0.95      0.95     12648\n",
      "\n",
      "\n",
      "----------------------Confusion Matrix---------------------- \n",
      "\n"
     ]
    },
    {
     "data": {
      "image/png": "[encoded data removed]",
      "text/plain": [
       "<Figure size 640x480 with 2 Axes>"
      ]
     },
     "metadata": {},
     "output_type": "display_data"
    }
   ],
   "source": [
    "start_time = time.time()\n",
    "y_pred_test=clf_linsvc.predict(X_test)\n",
    "evaluation_time = time.time() - start_time\n",
    "\n",
    "linsvc_report = classification_report(y_test, y_pred_test, output_dict=True)\n",
    "accuracy = accuracy_score(y_test, y_pred_test)\n",
    "\n",
    "results_df.loc[9] = ['Linear SVC',\n",
    "                     accuracy,\n",
    "                     linsvc_report['macro avg']['precision'], \n",
    "                     linsvc_report['macro avg']['recall'], \n",
    "                     linsvc_report['macro avg']['f1-score'], training_time, evaluation_time, \"No max features\"]\n",
    "\n",
    "print(\"Linear SVC:\")\n",
    "print(classification_report(y_test, y_pred_test))\n",
    "\n",
    "print(\"\\n----------------------Confusion Matrix---------------------- \\n\")\n",
    "conf_mat = confusion_matrix(y_test, y_pred_test)\n",
    "plot_confusion_matrix(conf_mat,\n",
    "                    show_normed=True, colorbar=True,\n",
    "                    class_names=['Fake', 'Real'])\n",
    "plt.show()"
   ]
  },
  {
   "attachments": {},
   "cell_type": "markdown",
   "metadata": {},
   "source": [
    "Multinomial NB"
   ]
  },
  {
   "cell_type": "code",
   "execution_count": 160,
   "metadata": {},
   "outputs": [],
   "source": [
    "start_time = time.time()\n",
    "clf_mnb = MultinomialNB()\n",
    "clf_mnb.fit(X_train, y_train)\n",
    "training_time = time.time() - start_time"
   ]
  },
  {
   "cell_type": "code",
   "execution_count": 161,
   "metadata": {},
   "outputs": [
    {
     "name": "stdout",
     "output_type": "stream",
     "text": [
      "Multinomial NB:\n",
      "              precision    recall  f1-score   support\n",
      "\n",
      "           0       0.95      0.87      0.91      6285\n",
      "           1       0.88      0.95      0.91      6363\n",
      "\n",
      "    accuracy                           0.91     12648\n",
      "   macro avg       0.91      0.91      0.91     12648\n",
      "weighted avg       0.91      0.91      0.91     12648\n",
      "\n",
      "\n",
      "----------------------Confusion Matrix---------------------- \n",
      "\n"
     ]
    },
    {
     "data": {
      "image/png": "[encoded data removed]",
      "text/plain": [
       "<Figure size 640x480 with 2 Axes>"
      ]
     },
     "metadata": {},
     "output_type": "display_data"
    }
   ],
   "source": [
    "start_time = time.time()\n",
    "y_pred_test=clf_mnb.predict(X_test)\n",
    "evaluation_time = time.time() - start_time\n",
    "\n",
    "mnb_report = classification_report(y_test, y_pred_test, output_dict=True)\n",
    "accuracy = accuracy_score(y_test, y_pred_test)\n",
    "\n",
    "results_df.loc[10] = ['Multinomial NB',\n",
    "                     accuracy,\n",
    "                     mnb_report['macro avg']['precision'], \n",
    "                     mnb_report['macro avg']['recall'], \n",
    "                     mnb_report['macro avg']['f1-score'], training_time, evaluation_time, \"No max features\"]\n",
    "\n",
    "print(\"Multinomial NB:\")\n",
    "print(classification_report(y_test, y_pred_test))\n",
    "\n",
    "print(\"\\n----------------------Confusion Matrix---------------------- \\n\")\n",
    "conf_mat = confusion_matrix(y_test, y_pred_test)\n",
    "plot_confusion_matrix(conf_mat,\n",
    "                    show_normed=True, colorbar=True,\n",
    "                    class_names=['Fake', 'Real'])\n",
    "plt.show()"
   ]
  },
  {
   "attachments": {},
   "cell_type": "markdown",
   "metadata": {},
   "source": [
    "Bernoulli NB"
   ]
  },
  {
   "cell_type": "code",
   "execution_count": 162,
   "metadata": {},
   "outputs": [],
   "source": [
    "start_time = time.time()\n",
    "clf_bnb=BernoulliNB()\n",
    "clf_bnb.fit(X_train, y_train)\n",
    "training_time = time.time() - start_time"
   ]
  },
  {
   "cell_type": "code",
   "execution_count": 163,
   "metadata": {},
   "outputs": [
    {
     "name": "stdout",
     "output_type": "stream",
     "text": [
      "Bernoulli NB:\n",
      "              precision    recall  f1-score   support\n",
      "\n",
      "           0       0.80      0.98      0.88      6285\n",
      "           1       0.97      0.76      0.85      6363\n",
      "\n",
      "    accuracy                           0.87     12648\n",
      "   macro avg       0.89      0.87      0.87     12648\n",
      "weighted avg       0.89      0.87      0.87     12648\n",
      "\n",
      "\n",
      "----------------------Confusion Matrix---------------------- \n",
      "\n"
     ]
    },
    {
     "data": {
      "image/png": "[encoded data removed]",
      "text/plain": [
       "<Figure size 640x480 with 2 Axes>"
      ]
     },
     "metadata": {},
     "output_type": "display_data"
    }
   ],
   "source": [
    "start_time = time.time()\n",
    "y_pred_test=clf_bnb.predict(X_test)\n",
    "evaluation_time = time.time() - start_time\n",
    "\n",
    "bnb_report = classification_report(y_test, y_pred_test, output_dict=True)\n",
    "accuracy = accuracy_score(y_test, y_pred_test)\n",
    "\n",
    "results_df.loc[11] = ['Bernoulli NB',\n",
    "                     accuracy,\n",
    "                     bnb_report['macro avg']['precision'], \n",
    "                     bnb_report['macro avg']['recall'], \n",
    "                     bnb_report['macro avg']['f1-score'], training_time, evaluation_time, \"No max features\"]\n",
    "\n",
    "print(\"Bernoulli NB:\")\n",
    "print(classification_report(y_test, y_pred_test))\n",
    "\n",
    "print(\"\\n----------------------Confusion Matrix---------------------- \\n\")\n",
    "conf_mat = confusion_matrix(y_test, y_pred_test)\n",
    "plot_confusion_matrix(conf_mat,\n",
    "                    show_normed=True, colorbar=True,\n",
    "                    class_names=['Fake', 'Real'])\n",
    "plt.show()"
   ]
  },
  {
   "attachments": {},
   "cell_type": "markdown",
   "metadata": {},
   "source": [
    "Gaussian NB"
   ]
  },
  {
   "cell_type": "code",
   "execution_count": 171,
   "metadata": {},
   "outputs": [],
   "source": [
    "try_tfidf = TfidfVectorizer(ngram_range=(1, 3), max_features= 3000) #, max_features= max_feat\n",
    "try_X_tfidf = try_tfidf.fit_transform(df['features']).toarray()\n",
    "\n",
    "try_X_train, try_X_test, try_y_train, try_y_test = train_test_split(try_X_tfidf, y, test_size=0.2, random_state=42)\n",
    "\n",
    "start_time = time.time()\n",
    "clf_gnb=GaussianNB()\n",
    "clf_gnb.fit(try_X_train, try_y_train)\n",
    "training_time = time.time() - start_time"
   ]
  },
  {
   "cell_type": "code",
   "execution_count": 172,
   "metadata": {},
   "outputs": [
    {
     "name": "stdout",
     "output_type": "stream",
     "text": [
      "Gaussian NB:\n",
      "              precision    recall  f1-score   support\n",
      "\n",
      "           0       0.89      0.89      0.89      6285\n",
      "           1       0.89      0.89      0.89      6363\n",
      "\n",
      "    accuracy                           0.89     12648\n",
      "   macro avg       0.89      0.89      0.89     12648\n",
      "weighted avg       0.89      0.89      0.89     12648\n",
      "\n",
      "\n",
      "----------------------Confusion Matrix---------------------- \n",
      "\n"
     ]
    },
    {
     "data": {
      "image/png": "[encoded data removed]",
      "text/plain": [
       "<Figure size 640x480 with 2 Axes>"
      ]
     },
     "metadata": {},
     "output_type": "display_data"
    }
   ],
   "source": [
    "#changed try vars\n",
    "\n",
    "start_time = time.time()\n",
    "try_y_pred_test=clf_gnb.predict(try_X_test)\n",
    "evaluation_time = time.time() - start_time\n",
    "\n",
    "gnb_report = classification_report(try_y_test, try_y_pred_test, output_dict=True)\n",
    "accuracy = accuracy_score(try_y_test, try_y_pred_test)\n",
    "\n",
    "results_df.loc[12] = ['Gaussian NB',\n",
    "                     accuracy,\n",
    "                     gnb_report['macro avg']['precision'], \n",
    "                     gnb_report['macro avg']['recall'], \n",
    "                     gnb_report['macro avg']['f1-score'], training_time, evaluation_time, \"3000\"]\n",
    "\n",
    "print(\"Gaussian NB:\")\n",
    "print(classification_report(try_y_test, try_y_pred_test))\n",
    "\n",
    "print(\"\\n----------------------Confusion Matrix---------------------- \\n\")\n",
    "conf_mat = confusion_matrix(try_y_test, try_y_pred_test)\n",
    "plot_confusion_matrix(conf_mat,\n",
    "                    show_normed=True, colorbar=True,\n",
    "                    class_names=['Fake', 'Real'])\n",
    "plt.show()"
   ]
  },
  {
   "attachments": {},
   "cell_type": "markdown",
   "metadata": {},
   "source": [
    "KNN"
   ]
  },
  {
   "cell_type": "code",
   "execution_count": 173,
   "metadata": {},
   "outputs": [],
   "source": [
    "start_time = time.time()\n",
    "clf_knn = KNeighborsClassifier(20)\n",
    "clf_knn.fit(X_train, y_train)\n",
    "training_time = time.time() - start_time"
   ]
  },
  {
   "cell_type": "code",
   "execution_count": 174,
   "metadata": {},
   "outputs": [
    {
     "name": "stdout",
     "output_type": "stream",
     "text": [
      "KNN:\n",
      "              precision    recall  f1-score   support\n",
      "\n",
      "           0       0.87      0.81      0.84      6285\n",
      "           1       0.82      0.88      0.85      6363\n",
      "\n",
      "    accuracy                           0.85     12648\n",
      "   macro avg       0.85      0.85      0.85     12648\n",
      "weighted avg       0.85      0.85      0.85     12648\n",
      "\n",
      "\n",
      "----------------------Confusion Matrix---------------------- \n",
      "\n"
     ]
    },
    {
     "data": {
      "image/png": "[encoded data removed]",
      "text/plain": [
       "<Figure size 640x480 with 2 Axes>"
      ]
     },
     "metadata": {},
     "output_type": "display_data"
    }
   ],
   "source": [
    "start_time = time.time()\n",
    "y_pred_test=clf_knn.predict(X_test)\n",
    "evaluation_time = time.time() - start_time\n",
    "\n",
    "knn_report = classification_report(y_test, y_pred_test, output_dict=True)\n",
    "accuracy = accuracy_score(y_test, y_pred_test)\n",
    "\n",
    "results_df.loc[13] = ['KNN',\n",
    "                     accuracy,\n",
    "                     knn_report['macro avg']['precision'], \n",
    "                     knn_report['macro avg']['recall'], \n",
    "                     knn_report['macro avg']['f1-score'], training_time, evaluation_time, \"No max features\"]\n",
    "\n",
    "print(\"KNN:\")\n",
    "print(classification_report(y_test, y_pred_test))\n",
    "\n",
    "print(\"\\n----------------------Confusion Matrix---------------------- \\n\")\n",
    "conf_mat = confusion_matrix(y_test, y_pred_test)\n",
    "plot_confusion_matrix(conf_mat,\n",
    "                    show_normed=True, colorbar=True,\n",
    "                    class_names=['Fake', 'Real'])\n",
    "plt.show()"
   ]
  },
  {
   "attachments": {},
   "cell_type": "markdown",
   "metadata": {},
   "source": [
    "Step 8: Compare the models"
   ]
  },
  {
   "cell_type": "code",
   "execution_count": 175,
   "metadata": {},
   "outputs": [
    {
     "name": "stdout",
     "output_type": "stream",
     "text": [
      "             Classifier  Accuracy  Precision    Recall  F1-Score  \\\n",
      "0        Decision Trees  0.944181   0.944217  0.944217  0.944181   \n",
      "1         Random Forest  0.917536   0.917616  0.917497  0.917524   \n",
      "2           Extra Trees  0.919434   0.920245  0.919303  0.919375   \n",
      "3              XG Boost  0.954617   0.955088  0.954724  0.954611   \n",
      "4              Adaboost  0.940623   0.941123  0.940733  0.940614   \n",
      "5     Gradient Boosting  0.946395   0.948855  0.946630  0.946339   \n",
      "6               Bagging  0.951613   0.952273  0.951738  0.951603   \n",
      "7   Logistic Regression  0.932479   0.932661  0.932549  0.932477   \n",
      "8                   SVC  0.941097   0.941246  0.941161  0.941096   \n",
      "9            Linear SVC  0.949794   0.949905  0.949851  0.949794   \n",
      "10       Multinomial NB  0.910262   0.912989  0.910016  0.910075   \n",
      "11         Bernoulli NB  0.867331   0.886148  0.868013  0.865843   \n",
      "12          Gaussian NB  0.891603   0.891604  0.891594  0.891598   \n",
      "13                  KNN  0.845351   0.847270  0.845121  0.845071   \n",
      "\n",
      "    Training Time  Evaluation Time Number of Features  \n",
      "0     1526.930160         0.472208    No max features  \n",
      "1     5681.778785        13.616636    No max features  \n",
      "2    12882.818834        14.333878    No max features  \n",
      "3      134.067611         5.058089    No max features  \n",
      "4    29734.912116         8.373410    No max features  \n",
      "5    62579.443004         0.553704    No max features  \n",
      "6    10379.832484         5.971563    No max features  \n",
      "7      175.620823         0.143328    No max features  \n",
      "8     8637.997876       640.637959    No max features  \n",
      "9        8.244925         0.052274    No max features  \n",
      "10       0.928820         0.194234    No max features  \n",
      "11       1.218603         0.673504    No max features  \n",
      "12       3.732165         1.305663               5000  \n",
      "13       1.115087     14093.794320    No max features  \n"
     ]
    }
   ],
   "source": [
    "# Print the results dataframe\n",
    "print(results_df)\n",
    "\n",
    "results_df.to_csv('Results_ML_features.csv', index=False)"
   ]
  }
 ],
 "metadata": {
  "kernelspec": {
   "display_name": "tf-gpu",
   "language": "python",
   "name": "python3"
  },
  "language_info": {
   "codemirror_mode": {
    "name": "ipython",
    "version": 3
   },
   "file_extension": ".py",
   "mimetype": "text/x-python",
   "name": "python",
   "nbconvert_exporter": "python",
   "pygments_lexer": "ipython3",
   "version": "3.9.16"
  },
  "orig_nbformat": 4
 },
 "nbformat": 4,
 "nbformat_minor": 2
}
